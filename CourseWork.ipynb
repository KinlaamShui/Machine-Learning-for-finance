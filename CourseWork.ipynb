{
 "cells": [
  {
   "cell_type": "markdown",
   "metadata": {
    "id": "view-in-github",
    "colab_type": "text"
   },
   "source": [
    "<a href=\"https://colab.research.google.com/github/Jandsy/ml_finance_imperial/blob/main/Coursework/CourseWork.ipynb\" target=\"_parent\"><img src=\"https://colab.research.google.com/assets/colab-badge.svg\" alt=\"Open In Colab\"/></a>"
   ]
  },
  {
   "cell_type": "markdown",
   "metadata": {
    "id": "zSIsUTeyXNr_"
   },
   "source": [
    "# **<center>Machine Learning and Finance </center>**\n",
    "\n",
    "\n",
    "## <center> CourseWork 2024 - StatArb </center>\n"
   ]
  },
  {
   "cell_type": "markdown",
   "source": [
    "\n",
    "In this coursework, you will delve into and replicate selected elements of the research detailed in the paper **[End-to-End Policy Learning of a Statistical Arbitrage Autoencoder Architecture](https://arxiv.org/pdf/2402.08233.pdf)**. **However, we will not reproduce the entire study.**\n",
    "\n",
    "## Overview\n",
    "\n",
    "This study redefines Statistical Arbitrage (StatArb) by combining Autoencoder architectures and policy learning to generate trading strategies. Traditionally, StatArb involves finding the mean of a synthetic asset through classical or PCA-based methods before developing a mean reversion strategy. However, this paper proposes a data-driven approach using an Autoencoder trained on US stock returns, integrated into a neural network representing portfolio trading policies to output portfolio allocations directly.\n",
    "\n",
    "\n",
    "## Coursework Goal\n",
    "\n",
    "This coursework will replicate these results, providing hands-on experience in implementing and evaluating this innovative end-to-end policy learning Autoencoder within financial trading strategies.\n",
    "\n",
    "## Outline\n",
    "\n",
    "- [Data Preparation and Exploration](#Data-Preparation-and-Exploration)\n",
    "- [Fama French Analysis](#Fama-French-Analysis)\n",
    "- [PCA Analysis](#PCA-Analysis)\n",
    "- [Ornstein Uhlenbeck](#Ornstein-Uhlenbeck)\n",
    "- [Autoencoder Analysis](#Autoencoder-Analysis)\n",
    "\n",
    "\n",
    "\n",
    "**Description:**\n",
    "The Coursework is graded on a 100 point scale and is divided into five  parts. Below is the mark distribution for each question:\n",
    "\n",
    "| **Problem**  | **Question**          | **Number of Marks** |\n",
    "|--------------|-----------------------|---------------------|\n",
    "| **Part A**   | Question 1            | 4                   |\n",
    "|              | Question 2            | 1                   |\n",
    "|              | Question 3            | 3                   |\n",
    "|              | Question 4            | 3                   |\n",
    "|              | Question 5            | 1                   |\n",
    "|              | Question 6            | 3                   |\n",
    "|**Part  B**    | Question 7           | 1                   |\n",
    "|              | Question 8            | 5                   |\n",
    "|              | Question 9            | 4                   |\n",
    "|              | Question 10           | 5                   |\n",
    "|              | Question 11           | 2                   |\n",
    "|              | Question 12           | 3                   |\n",
    "|**Part  C**    | Question 13          | 3                   |\n",
    "|              | Question 14           | 1                   |\n",
    "|              | Question 15           | 3                   |\n",
    "|              | Question 16           | 2                   |\n",
    "|              | Question 17           | 7                   |\n",
    "|              | Question 18           | 6                   |\n",
    "|              | Question 19           | 3                   |\n",
    "|  **Part  D** | Question 20           | 3                   |\n",
    "|              | Question 21           | 5                   |\n",
    "|              | Question 22           | 2                   |\n",
    "|  **Part  E** | Question 23           | 2                   |\n",
    "|              | Question 24           | 1                   |\n",
    "|              | Question 25           | 3                   |\n",
    "|              | Question 26           | 10                  |\n",
    "|              | Question 27           | 1                   |\n",
    "|              | Question 28           | 3                   |\n",
    "|              | Question 29           | 3                   |\n",
    "|              | Question 30           | 7                   |\n",
    "\n",
    "\n",
    "\n",
    "\n",
    "Please read the questions carefully and do your best. Good luck!\n",
    "\n",
    "## Objectives\n",
    "\n",
    "\n",
    "\n",
    "## 1. Data Preparation and Exploration\n",
    "Collect, clean, and prepare US stock return data for analysis.\n",
    "\n",
    "## 2. Fama French Analysis\n",
    "Utilize Fama French Factors to isolate the idiosyncratic components of stock returns, differentiating them from market-wide effects. This analysis helps in understanding the unique characteristics of individual stocks relative to broader market trends.\n",
    "\n",
    "## 3. PCA Analysis\n",
    "Employ Principal Component Analysis (PCA) to identify hidden structures and reduce dimensionality in the data. This method helps in extracting significant patterns that might be obscured in high-dimensional datasets.\n",
    "\n",
    "## 4. Ornstein-Uhlenbeck Process\n",
    "Analyze mean-reverting behavior in stock prices using the Ornstein-Uhlenbeck process. This stochastic process is useful for modeling and forecasting based on the assumption that prices will revert to a long-term mean.\n",
    "\n",
    "## 5. Building a Basic Autoencoder Model\n",
    "Construct and train a standard Autoencoder to extract residual idiosyncratic risk.\n",
    "\n",
    "\n",
    "\n",
    "\n",
    "\n",
    "\n"
   ],
   "metadata": {
    "id": "kBDj0uD44dQL"
   }
  },
  {
   "cell_type": "markdown",
   "metadata": {
    "id": "pFU9ckGplGDf"
   },
   "source": [
    "# Data Preparation and Exploration"
   ]
  },
  {
   "cell_type": "markdown",
   "metadata": {
    "id": "yiqyU4DQlxsV"
   },
   "source": [
    "\n",
    "---\n",
    "<font color=green>Q1: (4 Marks)</font>\n",
    "<br><font color='green'>\n",
    "Write a Python function that accepts a URL parameter and retrieves the NASDAQ-100 companies and their ticker symbols by scraping the relevant Wikipedia page using **[Requests](https://pypi.org/project/requests/)** and **[BeautifulSoup](https://www.crummy.com/software/BeautifulSoup/bs4/doc/)**. Your function should return the data as a list of tuples, with each tuple containing the company name and its ticker symbol. Then, call your function with the appropriate Wikipedia page URL and print the data in a 'Company: Ticker' format.\n",
    "\n",
    "</font>\n",
    "\n",
    "---\n"
   ]
  },
  {
   "cell_type": "code",
   "source": [
    "import requests\n",
    "from bs4 import BeautifulSoup\n",
    "\n",
    "def get_nasdaq_100_companies(url):\n",
    "    # Fetch the webpage\n",
    "    response = requests.get(url)\n",
    "    # Raise an exception if the request was unsuccessful\n",
    "    response.raise_for_status()\n",
    "    \n",
    "    # Parse the content with BeautifulSoup\n",
    "    soup = BeautifulSoup(response.text, 'html.parser')\n",
    "    \n",
    "    # Find the table with NASDAQ-100 Index companies; it's usually marked with a specific class or id\n",
    "    # Adjust the selector as needed if the table structure changes\n",
    "    table = soup.find('table', {'class': 'wikitable sortable'})\n",
    "\n",
    "    # Extract rows from the table\n",
    "    rows = table.find_all('tr')\n",
    "    \n",
    "    # Initialize a list to store the company names and tickers\n",
    "    companies = []\n",
    "\n",
    "    # Skip the header row and iterate through each row to extract company data\n",
    "    for row in rows[1:]:  # Skip the header row\n",
    "        cols = row.find_all('td')\n",
    "        if len(cols) > 1:\n",
    "            # The company name is usually in the first column, ticker in the second\n",
    "            company_name = cols[0].text.strip()\n",
    "            ticker_symbol = cols[1].text.strip()\n",
    "            companies.append((company_name, ticker_symbol))\n",
    "    \n",
    "    return companies\n",
    "\n",
    "# URL of the Wikipedia page containing the NASDAQ-100 companies\n",
    "url = 'https://en.wikipedia.org/wiki/NASDAQ-100'\n",
    "\n",
    "# Call the function and print the data\n",
    "nasdaq_companies = get_nasdaq_100_companies(url)\n",
    "\n",
    "for company, ticker in nasdaq_companies:\n",
    "    print(f'{company}: {ticker}')\n"
   ],
   "metadata": {
    "id": "lcJXF6aSxCGu",
    "ExecuteTime": {
     "end_time": "2024-05-18T12:15:52.117882Z",
     "start_time": "2024-05-18T12:15:51.844512Z"
    }
   },
   "execution_count": 7,
   "outputs": [
    {
     "name": "stdout",
     "output_type": "stream",
     "text": [
      "Adobe Inc.: ADBE\n",
      "ADP: ADP\n",
      "Airbnb: ABNB\n",
      "Alphabet Inc. (Class A): GOOGL\n",
      "Alphabet Inc. (Class C): GOOG\n",
      "Amazon: AMZN\n",
      "Advanced Micro Devices Inc.: AMD\n",
      "American Electric Power: AEP\n",
      "Amgen: AMGN\n",
      "Analog Devices: ADI\n",
      "Ansys: ANSS\n",
      "Apple Inc.: AAPL\n",
      "Applied Materials: AMAT\n",
      "ASML Holding: ASML\n",
      "AstraZeneca: AZN\n",
      "Atlassian: TEAM\n",
      "Autodesk: ADSK\n",
      "Baker Hughes: BKR\n",
      "Biogen: BIIB\n",
      "Booking Holdings: BKNG\n",
      "Broadcom Inc.: AVGO\n",
      "Cadence Design Systems: CDNS\n",
      "CDW Corporation: CDW\n",
      "Charter Communications: CHTR\n",
      "Cintas: CTAS\n",
      "Cisco: CSCO\n",
      "Coca-Cola Europacific Partners: CCEP\n",
      "Cognizant: CTSH\n",
      "Comcast: CMCSA\n",
      "Constellation Energy: CEG\n",
      "Copart: CPRT\n",
      "CoStar Group: CSGP\n",
      "Costco: COST\n",
      "CrowdStrike: CRWD\n",
      "CSX Corporation: CSX\n",
      "Datadog: DDOG\n",
      "DexCom: DXCM\n",
      "Diamondback Energy: FANG\n",
      "Dollar Tree: DLTR\n",
      "DoorDash: DASH\n",
      "Electronic Arts: EA\n",
      "Exelon: EXC\n",
      "Fastenal: FAST\n",
      "Fortinet: FTNT\n",
      "GE HealthCare: GEHC\n",
      "Gilead Sciences: GILD\n",
      "GlobalFoundries: GFS\n",
      "Honeywell: HON\n",
      "Idexx Laboratories: IDXX\n",
      "Illumina, Inc.: ILMN\n",
      "Intel: INTC\n",
      "Intuit: INTU\n",
      "Intuitive Surgical: ISRG\n",
      "Keurig Dr Pepper: KDP\n",
      "KLA Corporation: KLAC\n",
      "Kraft Heinz: KHC\n",
      "Lam Research: LRCX\n",
      "Linde plc: LIN\n",
      "Lululemon: LULU\n",
      "Marriott International: MAR\n",
      "Marvell Technology: MRVL\n",
      "MercadoLibre: MELI\n",
      "Meta Platforms: META\n",
      "Microchip Technology: MCHP\n",
      "Micron Technology: MU\n",
      "Microsoft: MSFT\n",
      "Moderna: MRNA\n",
      "Mondelēz International: MDLZ\n",
      "MongoDB Inc.: MDB\n",
      "Monster Beverage: MNST\n",
      "Netflix: NFLX\n",
      "Nvidia: NVDA\n",
      "NXP: NXPI\n",
      "O'Reilly Automotive: ORLY\n",
      "Old Dominion Freight Line: ODFL\n",
      "Onsemi: ON\n",
      "Paccar: PCAR\n",
      "Palo Alto Networks: PANW\n",
      "Paychex: PAYX\n",
      "PayPal: PYPL\n",
      "PDD Holdings: PDD\n",
      "PepsiCo: PEP\n",
      "Qualcomm: QCOM\n",
      "Regeneron: REGN\n",
      "Roper Technologies: ROP\n",
      "Ross Stores: ROST\n",
      "Sirius XM: SIRI\n",
      "Starbucks: SBUX\n",
      "Synopsys: SNPS\n",
      "Take-Two Interactive: TTWO\n",
      "T-Mobile US: TMUS\n",
      "Tesla, Inc.: TSLA\n",
      "Texas Instruments: TXN\n",
      "The Trade Desk: TTD\n",
      "Verisk: VRSK\n",
      "Vertex Pharmaceuticals: VRTX\n",
      "Walgreens Boots Alliance: WBA\n",
      "Warner Bros. Discovery: WBD\n",
      "Workday, Inc.: WDAY\n",
      "Xcel Energy: XEL\n",
      "Zscaler: ZS\n"
     ]
    }
   ]
  },
  {
   "cell_type": "markdown",
   "source": [
    "---\n",
    "<font color=green>Q2: (1 Mark)</font>\n",
    "<br><font color='green'>\n",
    "Given a list of tuples representing NASDAQ-100 companies (where each tuple contains a company name and its ticker symbol), write a Python script to extract all ticker symbols into a separate list called `tickers_list`.\n",
    "</font>\n",
    "---\n"
   ],
   "metadata": {
    "id": "9VvyNAF9sE7u"
   }
  },
  {
   "cell_type": "code",
   "source": [
    "# Use list comprehension to extract just the ticker symbols into a new list called 'tickers_list'\n",
    "tickers_list = [ticker for company, ticker in nasdaq_companies]\n",
    "\n",
    "# Output the list of tickers\n",
    "print(\"Tickers List:\", tickers_list)"
   ],
   "metadata": {
    "id": "yQaWckkXxDLP",
    "ExecuteTime": {
     "end_time": "2024-05-18T12:15:58.486374Z",
     "start_time": "2024-05-18T12:15:58.462821Z"
    }
   },
   "execution_count": 8,
   "outputs": [
    {
     "name": "stdout",
     "output_type": "stream",
     "text": [
      "Tickers List: ['ADBE', 'ADP', 'ABNB', 'GOOGL', 'GOOG', 'AMZN', 'AMD', 'AEP', 'AMGN', 'ADI', 'ANSS', 'AAPL', 'AMAT', 'ASML', 'AZN', 'TEAM', 'ADSK', 'BKR', 'BIIB', 'BKNG', 'AVGO', 'CDNS', 'CDW', 'CHTR', 'CTAS', 'CSCO', 'CCEP', 'CTSH', 'CMCSA', 'CEG', 'CPRT', 'CSGP', 'COST', 'CRWD', 'CSX', 'DDOG', 'DXCM', 'FANG', 'DLTR', 'DASH', 'EA', 'EXC', 'FAST', 'FTNT', 'GEHC', 'GILD', 'GFS', 'HON', 'IDXX', 'ILMN', 'INTC', 'INTU', 'ISRG', 'KDP', 'KLAC', 'KHC', 'LRCX', 'LIN', 'LULU', 'MAR', 'MRVL', 'MELI', 'META', 'MCHP', 'MU', 'MSFT', 'MRNA', 'MDLZ', 'MDB', 'MNST', 'NFLX', 'NVDA', 'NXPI', 'ORLY', 'ODFL', 'ON', 'PCAR', 'PANW', 'PAYX', 'PYPL', 'PDD', 'PEP', 'QCOM', 'REGN', 'ROP', 'ROST', 'SIRI', 'SBUX', 'SNPS', 'TTWO', 'TMUS', 'TSLA', 'TXN', 'TTD', 'VRSK', 'VRTX', 'WBA', 'WBD', 'WDAY', 'XEL', 'ZS']\n"
     ]
    }
   ]
  },
  {
   "cell_type": "markdown",
   "source": [
    "---\n",
    "<font color=green>Q3: (3 Marks)</font>\n",
    "<br><font color='green'>\n",
    "Using **[yfinance](https://pypi.org/project/yfinance/)** library, write a Python script that accepts a list of stock ticker symbols. For each symbol, download the adjusted closing price data, store it in a dictionary with the ticker symbol as the key, and then convert the final dictionary into a Pandas DataFrame. Handle any errors encountered during data retrieval by printing a message indicating which symbol failed\n",
    "</font>\n",
    "---"
   ],
   "metadata": {
    "id": "2KEkAPUxsW4s"
   }
  },
  {
   "cell_type": "code",
   "source": [
    "import yfinance as yf\n",
    "import pandas as pd\n",
    "\n",
    "def download_stock_data_dataframe(tickers):\n",
    "    # Dictionary to hold our data\n",
    "    stock_data = {}\n",
    "    \n",
    "    # Iterate over each ticker symbol in the list\n",
    "    for ticker in tickers:\n",
    "        try:\n",
    "            # Fetch data for the ticker\n",
    "            data = yf.download(ticker, start=\"2020-01-01\", end=\"2023-01-01\", progress=False)\n",
    "            # Extract the Adjusted Close column\n",
    "            stock_data[ticker] = data['Adj Close']\n",
    "        except Exception as e:\n",
    "            # Handle errors in downloading or processing data\n",
    "            print(f\"Failed to fetch data for {ticker}. Error: {str(e)}\")\n",
    "    \n",
    "    # Convert the dictionary to a Pandas DataFrame\n",
    "    stock_dataframe = pd.DataFrame(stock_data)\n",
    "    \n",
    "    return stock_dataframe\n",
    "\n",
    "stock_dataframe = download_stock_data_dataframe(tickers_list)\n",
    "print(stock_dataframe.head(10))"
   ],
   "metadata": {
    "id": "pynohwbpxEg5",
    "ExecuteTime": {
     "end_time": "2024-05-18T13:13:04.637835Z",
     "start_time": "2024-05-18T13:12:54.359590Z"
    }
   },
   "execution_count": 20,
   "outputs": [
    {
     "name": "stdout",
     "output_type": "stream",
     "text": [
      "                  ADBE         ADP  ABNB      GOOGL       GOOG       AMZN  \\\n",
      "Date                                                                        \n",
      "2020-01-02  334.429993  155.670273   NaN  68.433998  68.368500  94.900497   \n",
      "2020-01-03  331.809998  155.341263   NaN  68.075996  68.032997  93.748497   \n",
      "2020-01-06  333.709991  155.551453   NaN  69.890503  69.710503  95.143997   \n",
      "2020-01-07  333.390015  153.668625   NaN  69.755501  69.667000  95.343002   \n",
      "2020-01-08  337.869995  155.112747   NaN  70.251999  70.216003  94.598503   \n",
      "2020-01-09  340.450012  156.483734   NaN  70.989502  70.991501  95.052498   \n",
      "2020-01-10  339.809998  156.374054   NaN  71.447998  71.486504  94.157997   \n",
      "2020-01-13  345.630005  157.534821   NaN  72.001503  71.961502  94.565002   \n",
      "2020-01-14  344.630005  156.501999   NaN  71.529503  71.543999  93.472000   \n",
      "2020-01-15  342.940002  157.946106   NaN  71.959999  71.959999  93.100998   \n",
      "\n",
      "                  AMD        AEP        AMGN         ADI  ...       TSLA  \\\n",
      "Date                                                      ...              \n",
      "2020-01-02  49.099998  79.457825  209.199478  111.252640  ...  28.684000   \n",
      "2020-01-03  48.599998  79.372818  207.779251  109.294197  ...  29.534000   \n",
      "2020-01-06  48.389999  79.636375  209.373718  108.010117  ...  30.102667   \n",
      "2020-01-07  48.250000  79.653389  207.404556  110.467422  ...  31.270666   \n",
      "2020-01-08  47.830002  79.415321  207.561417  111.465118  ...  32.809334   \n",
      "2020-01-09  48.970001  79.814911  208.180023  111.465118  ...  32.089333   \n",
      "2020-01-10  48.169998  80.206001  207.596252  109.534386  ...  31.876667   \n",
      "2020-01-13  48.750000  80.452545  206.428741  109.987030  ...  34.990665   \n",
      "2020-01-14  48.209999  80.750114  209.112335  110.421234  ...  35.861332   \n",
      "2020-01-15  48.549999  82.127419  210.593567  108.555168  ...  34.566666   \n",
      "\n",
      "                   TXN        TTD        VRSK        VRTX        WBA  \\\n",
      "Date                                                                   \n",
      "2020-01-02  114.222328  27.145000  147.065231  219.449997  48.048973   \n",
      "2020-01-03  112.706070  27.191000  148.495789  217.979996  48.048973   \n",
      "2020-01-06  111.921486  27.791000  148.836395  224.029999  48.463745   \n",
      "2020-01-07  114.081284  28.028000  150.082062  223.789993  48.219749   \n",
      "2020-01-08  114.389809  28.520000  151.463943  231.089996  45.405781   \n",
      "2020-01-09  115.773865  28.664000  152.923676  230.259995  44.470493   \n",
      "2020-01-10  114.601379  27.775999  153.098892  228.949997  44.096390   \n",
      "2020-01-13  114.557320  28.816999  153.780106  226.490005  43.966267   \n",
      "2020-01-14  115.192024  28.416000  152.670670  229.750000  44.421703   \n",
      "2020-01-15  113.869705  28.480000  154.393204  234.149994  44.267181   \n",
      "\n",
      "                  WBD        WDAY        XEL         ZS  \n",
      "Date                                                     \n",
      "2020-01-02  32.220001  167.460007  55.022354  47.330002  \n",
      "2020-01-03  32.029999  168.440002  55.286961  47.380001  \n",
      "2020-01-06  31.959999  169.490005  55.207581  48.700001  \n",
      "2020-01-07  32.070000  172.949997  55.092907  48.400002  \n",
      "2020-01-08  32.110001  178.710007  55.039989  50.750000  \n",
      "2020-01-09  32.250000  179.479996  55.163475  54.000000  \n",
      "2020-01-10  31.850000  180.110001  55.251682  55.000000  \n",
      "2020-01-13  31.790001  181.919998  55.895569  59.619999  \n",
      "2020-01-14  31.900000  179.979996  55.983780  59.540001  \n",
      "2020-01-15  32.240002  179.179993  56.865833  59.990002  \n",
      "\n",
      "[10 rows x 101 columns]\n"
     ]
    }
   ]
  },
  {
   "cell_type": "markdown",
   "source": [
    "---\n",
    "<font color=green>Q4: (3 Marks)</font>\n",
    "<br><font color='green'>\n",
    "Write a Python script to analyze stock data stored in a dictionary `stock_data` (where each key is a stock ticker symbol, and each value is a Pandas Series of adjusted closing prices). The script should:\n",
    "1. Convert the dictionary into a DataFrame.\n",
    "2. Calculate the daily returns for each stock.\n",
    "3. Identify columns (ticker symbols) with at least 2000 non-NaN values in their daily returns.\n",
    "4. Create a new DataFrame that only includes these filtered ticker symbols.\n",
    "5. Remove any remaining rows with NaN values in this new DataFrame.\n",
    "</font>\n",
    "\n",
    "---"
   ],
   "metadata": {
    "id": "Np3XHMtatQC_"
   }
  },
  {
   "cell_type": "code",
   "source": [
    "# get stock_data without converting it to dataframe\n",
    "def download_stock_data(tickers):\n",
    "    # Dictionary to hold our data\n",
    "    stock_data = {}\n",
    "    \n",
    "    # Iterate over each ticker symbol in the list\n",
    "    for ticker in tickers:\n",
    "        try:\n",
    "            # Fetch data for the ticker\n",
    "            data = yf.download(ticker, start=\"1900-01-01\", end=\"2023-01-01\", progress=False)\n",
    "            # Extract the Adjusted Close column\n",
    "            stock_data[ticker] = data['Adj Close']\n",
    "        except Exception as e:\n",
    "            # Handle errors in downloading or processing data\n",
    "            print(f\"Failed to fetch data for {ticker}. Error: {str(e)}\")\n",
    "    \n",
    "    return stock_data\n",
    "\n",
    "def analyze_stock_data(stock_data):\n",
    "    # 1. Convert the dictionary into a DataFrame\n",
    "    df = pd.DataFrame(stock_data)\n",
    "    \n",
    "    # 2. Calculate the daily returns for each stock\n",
    "    daily_returns = df.pct_change()\n",
    "    \n",
    "    # 3. Identify columns with at least 2000 non-NaN values\n",
    "    valid_columns = daily_returns.columns[daily_returns.count() >= 2000]\n",
    "    \n",
    "    # 4. Create a new DataFrame that only includes these filtered ticker symbols\n",
    "    filtered_data = daily_returns[valid_columns]\n",
    "    \n",
    "    # 5. Remove any remaining rows with NaN values in this new DataFrame\n",
    "    final_data = filtered_data.dropna()\n",
    "\n",
    "    return final_data\n",
    "\n",
    "stock_data = download_stock_data(tickers_list)\n",
    "final_stock_analysis = analyze_stock_data(stock_data)\n",
    "print(final_stock_analysis.head(10))\n"
   ],
   "metadata": {
    "id": "2pt3y9_IxFjz",
    "ExecuteTime": {
     "end_time": "2024-05-18T13:20:32.889104Z",
     "start_time": "2024-05-18T13:20:05.365728Z"
    }
   },
   "execution_count": 26,
   "outputs": [
    {
     "name": "stdout",
     "output_type": "stream",
     "text": [
      "                ADBE       ADP     GOOGL      GOOG      AMZN       AMD  \\\n",
      "Date                                                                     \n",
      "2013-06-28 -0.008056 -0.007352  0.003762  0.003763  0.000504  0.000000   \n",
      "2013-07-01  0.014925  0.008568  0.008531  0.008531  0.015881  0.004902   \n",
      "2013-07-02 -0.004542  0.009071 -0.006273 -0.006273  0.005778 -0.031707   \n",
      "2013-07-03  0.008473  0.002283  0.004670  0.004669  0.001057  0.022670   \n",
      "2013-07-05  0.012495  0.007261  0.007964  0.007965  0.006513  0.002463   \n",
      "2013-07-08 -0.007872  0.003110  0.012983  0.012983  0.016475 -0.017199   \n",
      "2013-07-09  0.013511  0.000986  0.000166  0.000166  0.003235  0.012500   \n",
      "2013-07-10 -0.000212  0.009995  0.000828  0.000829  0.002744 -0.017284   \n",
      "2013-07-11  0.015661  0.001393  0.015729  0.015729  0.025074  0.118090   \n",
      "2013-07-12  0.008335  0.021712  0.002999  0.002999  0.026330 -0.029213   \n",
      "\n",
      "                 AEP      AMGN       ADI      ANSS  ...      TTWO      TMUS  \\\n",
      "Date                                                ...                       \n",
      "2013-06-28  0.006744 -0.003333 -0.006832 -0.012696  ...  0.027454  0.010591   \n",
      "2013-07-01 -0.006923 -0.011859  0.006879  0.007798  ...  0.026720 -0.043934   \n",
      "2013-07-02  0.000225 -0.014668 -0.001322 -0.015067  ...  0.004554 -0.014755   \n",
      "2013-07-03 -0.000450 -0.002602  0.008166  0.005513  ... -0.000648 -0.013693   \n",
      "2013-07-05 -0.004049  0.019100  0.011602  0.021107  ...  0.017498  0.017787   \n",
      "2013-07-08  0.006549  0.005530 -0.009738  0.006040  ... -0.012102 -0.005541   \n",
      "2013-07-09  0.000000  0.001528  0.010927  0.013609  ...  0.019342  0.032576   \n",
      "2013-07-10  0.019071  0.037933  0.010160  0.008819  ...  0.005693  0.013699   \n",
      "2013-07-11  0.018055  0.011758  0.027177  0.022312  ...  0.008805  0.022113   \n",
      "2013-07-12  0.006704  0.009781  0.007292  0.006509  ... -0.009975 -0.000801   \n",
      "\n",
      "                TSLA       TXN      VRSK      VRTX       WBA       WBD  \\\n",
      "Date                                                                     \n",
      "2013-06-28 -0.017300  0.000000  0.017903 -0.005836 -0.015590  0.007303   \n",
      "2013-07-01  0.091468  0.005452  0.016918  0.004622  0.003167  0.007121   \n",
      "2013-07-02  0.005462  0.002568 -0.003953 -0.011314  0.002706  0.009256   \n",
      "2013-07-03 -0.021898  0.009679  0.007276  0.013959 -0.007647  0.027003   \n",
      "2013-07-05  0.042086  0.014942  0.005254  0.022324  0.002946  0.006077   \n",
      "2013-07-08  0.012657 -0.008611  0.005226 -0.024870  0.024407  0.011095   \n",
      "2013-07-09  0.015130  0.015411 -0.000812 -0.004852  0.024707 -0.001341   \n",
      "2013-07-10 -0.009559  0.009658  0.002764  0.020628  0.030141  0.011598   \n",
      "2013-07-11  0.027317  0.015851  0.015729  0.037482  0.017764  0.019672   \n",
      "2013-07-12  0.034153  0.008609  0.009578  0.036482  0.001232  0.006865   \n",
      "\n",
      "                WDAY       XEL  \n",
      "Date                            \n",
      "2013-06-28 -0.003731 -0.012543  \n",
      "2013-07-01  0.000624 -0.009880  \n",
      "2013-07-02 -0.000936  0.002495  \n",
      "2013-07-03  0.020134  0.004622  \n",
      "2013-07-05  0.002295 -0.005662  \n",
      "2013-07-08 -0.012212  0.016370  \n",
      "2013-07-09  0.007263  0.010154  \n",
      "2013-07-10  0.002148  0.003120  \n",
      "2013-07-11 -0.004133  0.011403  \n",
      "2013-07-12  0.043966  0.001366  \n",
      "\n",
      "[10 rows x 86 columns]\n"
     ]
    },
    {
     "name": "stderr",
     "output_type": "stream",
     "text": [
      "/var/folders/0c/2vpb52352sl1jscry7gxtdnh0000gn/T/ipykernel_45636/2000357148.py:25: FutureWarning: The default fill_method='pad' in DataFrame.pct_change is deprecated and will be removed in a future version. Call ffill before calling pct_change to retain current behavior and silence this warning.\n",
      "  daily_returns = df.pct_change()\n"
     ]
    }
   ]
  },
  {
   "cell_type": "markdown",
   "metadata": {
    "id": "O3xAawJ8nPbH"
   },
   "source": [
    "---\n",
    "<font color=green>Q5: (1 Mark)</font>\n",
    "<br><font color='green'>\n",
    "Download the dataset named `df_filtered_nasdaq_100` from the GitHub repository of the course.\n",
    "</font>\n",
    "\n",
    "---"
   ]
  },
  {
   "cell_type": "code",
   "source": [
    "# import the downed data\n",
    "df= pd.read_csv('df_filtered_nasdaq_100.csv')\n",
    "print(df.shape)\n",
    "print(df.head())"
   ],
   "metadata": {
    "id": "Ko4juu_HxHnT",
    "ExecuteTime": {
     "end_time": "2024-05-18T13:40:40.024428Z",
     "start_time": "2024-05-18T13:40:39.907085Z"
    }
   },
   "execution_count": 48,
   "outputs": [
    {
     "name": "stdout",
     "output_type": "stream",
     "text": [
      "(2118, 90)\n",
      "         Date      ADBE       ADP     GOOGL      GOOG      AMZN       AMD  \\\n",
      "0  2015-12-10 -0.006699  0.006004 -0.003292 -0.002861 -0.003715  0.042553   \n",
      "1  2015-12-11  0.027653 -0.024924 -0.012657 -0.014130 -0.033473 -0.036735   \n",
      "2  2015-12-14  0.020127  0.015241  0.016151  0.012045  0.027744 -0.008475   \n",
      "3  2015-12-15  0.008149  0.010283 -0.003213 -0.005844  0.001110  0.008547   \n",
      "4  2015-12-16  0.016380  0.008541  0.021708  0.019761  0.026008  0.076271   \n",
      "\n",
      "        AEP      AMGN       ADI  ...      TTWO      TMUS      TSLA       TXN  \\\n",
      "0 -0.024356  0.011274  0.008826  ... -0.004777  0.007485  0.011358  0.002996   \n",
      "1 -0.005831 -0.028308 -0.003850  ... -0.011575 -0.009356 -0.044259 -0.012648   \n",
      "2 -0.000366  0.019078 -0.001932  ...  0.005141  0.014444  0.007188  0.000178   \n",
      "3  0.027503  0.028525 -0.004752  ...  0.023018  0.044907  0.011483  0.023657   \n",
      "4  0.017309  0.012053  0.017330  ...  0.006389  0.025419  0.060699  0.009036   \n",
      "\n",
      "       VRSK      VRTX       WBA       WBD      WDAY       XEL  \n",
      "0 -0.002616  0.010279  0.000960 -0.002109  0.005037 -0.013889  \n",
      "1 -0.015996 -0.034709 -0.020499 -0.035928 -0.057630  0.004311  \n",
      "2  0.014390 -0.016491  0.010402 -0.033613  0.000253  0.010017  \n",
      "3  0.013923  0.013656 -0.005450  0.002646 -0.000380  0.007934  \n",
      "4  0.021117  0.010658  0.031664  0.024887  0.029378  0.023897  \n",
      "\n",
      "[5 rows x 90 columns]\n"
     ]
    }
   ]
  },
  {
   "cell_type": "markdown",
   "source": [
    "---\n",
    "<font color=green>Q6: (3 Marks) </font>\n",
    "<br><font color='green'>\n",
    "Conduct an in-depth analysis of the `df_filtered_nasdaq_100` dataset from GitHub. Answer the following questions:\n",
    "- Which stock had the best performance over the entire period?\n",
    "- What is the average daily return of 'AAPL'?\n",
    "- What is the worst daily return? Provide the stock name and the date it occurred.\n",
    "</font>\n",
    "\n",
    "---"
   ],
   "metadata": {
    "id": "1WbCUDabWQoZ"
   }
  },
  {
   "cell_type": "code",
   "source": [
    "# Convert 'Date' column to datetime format\n",
    "df['Date'] = pd.to_datetime(df['Date'])\n",
    "# Correctly setting 'Date' as the index\n",
    "df_processed = df.set_index('Date')\n",
    "# calculate the cumulative returns\n",
    "cumulative_returns = (1 + df_processed).cumprod() - 1\n",
    "# pick cumulative return on the last day\n",
    "last_day_returns = cumulative_returns.iloc[-1]\n",
    "# find the largest return\n",
    "best_performer = last_day_returns.idxmax()\n",
    "best_performance = last_day_returns.max()\n",
    "print(f\"The stock had the best performance over the entire period：{best_performer}，with cumulative return：{best_performance:.2%}\")\n",
    "\n",
    "\n",
    "\n",
    "# Calculate the average daily return for 'AAPL'\n",
    "average_daily_return_aapl = df_processed['AAPL'].mean()\n",
    "# Print the result\n",
    "print(f\"The average daily return for 'AAPL' is: {average_daily_return_aapl:.2%}\")\n",
    "\n",
    "\n",
    "\n",
    "# Calculate the worst daily return in the entire DataFrame\n",
    "worst_daily_return = df_processed.min().min()  # Find the minimum value across all columns\n",
    "# Find the stock with the worst daily return\n",
    "worst_stock = df_processed.min().idxmin()  # Find the column (stock) that contains the minimum value\n",
    "# Find the date when the worst daily return occurred\n",
    "worst_date = df_processed.idxmin().loc[worst_stock]  # Find the index (date) for the minimum value in the identified column\n",
    "# Print the results\n",
    "print(f\"The worst daily return was {worst_daily_return:.2%} for stock {worst_stock} on {worst_date}.\")"
   ],
   "metadata": {
    "id": "kPfiDWWlxI0Z",
    "ExecuteTime": {
     "end_time": "2024-05-18T13:59:14.764207Z",
     "start_time": "2024-05-18T13:59:14.687234Z"
    }
   },
   "execution_count": 64,
   "outputs": [
    {
     "name": "stdout",
     "output_type": "stream",
     "text": [
      "The stock had the best performance over the entire period：NVDA，with cumulative return：11158.84%\n",
      "The average daily return for 'AAPL' is: 0.11%\n",
      "The worst daily return was -44.65% for stock FANG on 2020-03-09 00:00:00.\n"
     ]
    }
   ]
  },
  {
   "cell_type": "markdown",
   "source": [
    "# Fama French Analysis\n",
    "\n",
    "The Fama-French five-factor model is an extension of the classic three-factor model used in finance to describe stock returns. It is designed to better capture the risk associated with stocks and explain differences in returns. This model includes the following factors:\n",
    "\n",
    "1. **Market Risk (MKT)**: The excess return of the market over the risk-free rate. It captures the overall market's premium.\n",
    "2. **Size (SMB, \"Small Minus Big\")**: The performance of small-cap stocks relative to large-cap stocks.\n",
    "3. **Value (HML, \"High Minus Low\")**: The performance of stocks with high book-to-market values relative to those with low book-to-market values.\n",
    "4. **Profitability (RMW, \"Robust Minus Weak\")**: The difference in returns between companies with robust (high) and weak (low) profitability.\n",
    "5. **Investment (CMA, \"Conservative Minus Aggressive\")**: The difference in returns between companies that invest conservatively and those that invest aggressively.\n",
    "\n",
    "## Additional Factor\n",
    "\n",
    "6. **Momentum (MOM)**: This factor represents the tendency of stocks that have performed well in the past to continue performing well, and the reverse for stocks that have performed poorly.\n",
    "\n",
    "### Mathematical Representation\n",
    "\n",
    "The return of a stock $R_i^t$ at time $t$ can be modeled as follows :\n",
    "\n",
    "$$\n",
    "R_i^t - R_f^t = \\alpha_i^t + \\beta_{i,MKT}^t(R_M^t - R_f^t) + \\beta_{i,SMB}^t \\cdot SMB^t + \\beta_{i,HML}^t \\cdot HML^t + \\beta_{i,RMW}^t \\cdot RMW^t + \\beta_{i,CMA}^t \\cdot CMA^t + \\beta_{i,MOM}^t \\cdot MOM^t + \\epsilon_i^t\n",
    "$$\n",
    "\n",
    "Where:\n",
    "- $ R_i^t $ is the return of stock $i$ at time $t$\n",
    "- $R_f^t $is the risk-free rate at time $t$\n",
    "- $ R_M^t $ is the market return at time $t$\n",
    "- $\\alpha_i^t $ is the abnormal return or alpha of stock $ i $ at time $t$\n",
    "- $\\beta^t $ coefficients represent the sensitivity of the stock returns to each factor at time $t$\n",
    "- $\\epsilon_i^t $ is the error term or idiosyncratic risk unique to stock $ i $ at time $t$\n",
    "\n",
    "This model is particularly useful for identifying which factors significantly impact stock returns and for constructing a diversified portfolio that is optimized for given risk preferences.\n",
    "\n",
    "\n"
   ],
   "metadata": {
    "id": "hcY-V82zXGqc"
   }
  },
  {
   "cell_type": "markdown",
   "source": [
    "---\n",
    "<font color=green>Q7: (1 Mark) </font>\n",
    "<br><font color='green'>\n",
    "Download the `fama_french_dataset` from the course's GitHub account.\n",
    "</font>\n",
    "\n",
    "---"
   ],
   "metadata": {
    "id": "qtFgmpsKQc8B"
   }
  },
  {
   "cell_type": "code",
   "source": [
    "ff = pd.read_csv('fama_french_dataset.csv')\n",
    "# rename the first col\n",
    "ff.rename(columns={ff.columns[0]: 'Date'}, inplace=True)\n",
    "# to datetime\n",
    "ff['Date'] = pd.to_datetime(ff['Date'])\n",
    "# set Date to index\n",
    "ff.set_index('Date', inplace=True)\n",
    "\n",
    "print(ff.shape)\n",
    "print(ff.tail())"
   ],
   "metadata": {
    "id": "iJVPHhTSxKuk",
    "ExecuteTime": {
     "end_time": "2024-05-18T15:40:56.317983Z",
     "start_time": "2024-05-18T15:40:56.263536Z"
    }
   },
   "execution_count": 88,
   "outputs": [
    {
     "name": "stdout",
     "output_type": "stream",
     "text": [
      "(15290, 7)\n",
      "            Mkt-RF   SMB   HML   RMW   CMA     RF   Mom\n",
      "Date                                                   \n",
      "2024-03-22   -0.23 -0.98 -0.53  0.29 -0.37  0.021  0.43\n",
      "2024-03-25   -0.26 -0.10  0.88 -0.22 -0.17  0.021 -0.34\n",
      "2024-03-26   -0.26  0.10 -0.13 -0.50  0.23  0.021  0.09\n",
      "2024-03-27    0.88  1.29  0.91 -0.14  0.58  0.021 -1.34\n",
      "2024-03-28    0.10  0.45  0.48 -0.07  0.09  0.021 -0.44\n"
     ]
    }
   ]
  },
  {
   "cell_type": "markdown",
   "source": [
    "---\n",
    "<font color=green>Q8: (5 Marks)</font>\n",
    "<br><font color='green'>\n",
    "\n",
    "Write a Python function called `get_sub_df_ticker(ticker, date, df_filtered, length_history)` that extracts a historical sub-dataframe for a given `ticker` from `df_filtered`. The function should use `length_history` to determine the number of trading days to include, ending at the specified `date`. Return the sub-dataframe for the specified `ticker`.\n",
    "</font>\n",
    "\n",
    "---\n"
   ],
   "metadata": {
    "id": "S5FJ362KW-wh"
   }
  },
  {
   "cell_type": "code",
   "source": [
    "import pandas as pd\n",
    "\n",
    "def get_sub_df_ticker(ticker, date, df_filtered, length_history):\n",
    "    \"\"\"\n",
    "    Extracts a historical sub-dataframe for a given ticker from df_filtered,\n",
    "    ending at the specified date and including a specified number of trading days.\n",
    "\n",
    "    :param ticker: str, the stock ticker as a string.\n",
    "    :param date: str or pd.Timestamp, the end date for the data extraction.\n",
    "    :param df_filtered: pd.DataFrame, the DataFrame containing stock data where columns are tickers.\n",
    "    :param length_history: int, the number of trading days to include in the history.\n",
    "    \n",
    "    :return: pd.DataFrame, a DataFrame containing the historical data for the specified ticker and date range.\n",
    "    \"\"\"\n",
    "    # Convert date to pd.Timestamp if it's not already, to ensure consistent date handling\n",
    "    if not isinstance(date, pd.Timestamp):\n",
    "        date = pd.to_datetime(date)\n",
    "    \n",
    "    # Ensure the DataFrame's index is sorted (if it's not already sorted)\n",
    "    df_filtered = df_filtered.sort_index()\n",
    "    \n",
    "    # Use searchsorted to find the insertion point for the date or the nearest prior date\n",
    "    end_index = df_filtered.index.searchsorted(date, side='right') - 1\n",
    "    if end_index == -1:\n",
    "        raise ValueError(\"The specified date is earlier than any date in the DataFrame.\")\n",
    "\n",
    "    # Calculate the start index by going back the specified number of trading days\n",
    "    start_index = max(0, end_index - length_history + 1)  # Ensure the start index is not negative\n",
    "\n",
    "    # Slice the DataFrame to get the desired date range and ticker\n",
    "    sub_df = df_filtered.iloc[start_index:end_index+1][ticker]\n",
    "\n",
    "    return sub_df\n",
    "\n",
    "# Example call: \n",
    "sub = get_sub_df_ticker('AAPL', '2024-03-28', df_processed, 30)\n",
    "print(sub)"
   ],
   "metadata": {
    "id": "2mIrS_fpxLsR",
    "ExecuteTime": {
     "end_time": "2024-05-18T15:44:47.653944Z",
     "start_time": "2024-05-18T15:44:47.631354Z"
    }
   },
   "execution_count": 90,
   "outputs": [
    {
     "name": "stdout",
     "output_type": "stream",
     "text": [
      "Date\n",
      "2024-02-15   -0.001575\n",
      "2024-02-16   -0.008430\n",
      "2024-02-20   -0.004114\n",
      "2024-02-21    0.004186\n",
      "2024-02-22    0.011244\n",
      "2024-02-23   -0.010034\n",
      "2024-02-26   -0.007451\n",
      "2024-02-27    0.008114\n",
      "2024-02-28   -0.006625\n",
      "2024-02-29   -0.003693\n",
      "2024-03-01   -0.006030\n",
      "2024-03-04   -0.025381\n",
      "2024-03-05   -0.028441\n",
      "2024-03-06   -0.005878\n",
      "2024-03-07   -0.000709\n",
      "2024-03-08    0.010237\n",
      "2024-03-11    0.011832\n",
      "2024-03-12    0.002779\n",
      "2024-03-13   -0.012123\n",
      "2024-03-14    0.010927\n",
      "2024-03-15   -0.002197\n",
      "2024-03-18    0.006372\n",
      "2024-03-19    0.013585\n",
      "2024-03-20    0.014709\n",
      "2024-03-21   -0.040857\n",
      "2024-03-22    0.005310\n",
      "2024-03-25   -0.008300\n",
      "2024-03-26   -0.006673\n",
      "2024-03-27    0.021213\n",
      "2024-03-28   -0.010559\n",
      "Name: AAPL, dtype: float64\n"
     ]
    }
   ]
  },
  {
   "cell_type": "markdown",
   "source": [
    "---\n",
    "<font color=green>Q9: (4 Marks)</font>\n",
    "<br><font color='green'>\n",
    "Create a Python function named `df_ticker_with_fama_french(ticker, date, df_filtered, length_history, fama_french_data)` that uses `get_sub_df_ticker` to extract historical data for a specific `ticker`. Incorporate the Fama-French factors from `fama_french_data` into the extracted sub-dataframe. Adjust the ticker's returns by subtracting the risk-free rate ('RF') and add other relevant Fama-French factors ('Mkt-RF', 'SMB', 'HML', 'RMW', 'CMA', and 'Mom'). Return the resulting sub-dataframe.\n",
    "</font>\n",
    "\n",
    "---"
   ],
   "metadata": {
    "id": "T-p7nCNYXYNr"
   }
  },
  {
   "cell_type": "code",
   "source": [
    "import pandas as pd\n",
    "\n",
    "def df_ticker_with_fama_french(ticker, date, df_filtered, length_history, fama_french_data):\n",
    "    \"\"\"\n",
    "    Extracts historical data for a given ticker, adjusts the returns by subtracting the risk-free rate,\n",
    "    and incorporates additional Fama-French factors.\n",
    "\n",
    "    :param ticker: str, the stock ticker.\n",
    "    :param date: str or pd.Timestamp, the end date for the data extraction.\n",
    "    :param df_filtered: pd.DataFrame, the DataFrame containing stock data where columns are tickers.\n",
    "    :param length_history: int, the number of trading days to include in the history.\n",
    "    :param fama_french_data: pd.DataFrame, DataFrame containing Fama-French factors.\n",
    "    \n",
    "    :return: pd.DataFrame, a DataFrame containing the adjusted historical data for the specified ticker.\n",
    "    \"\"\"\n",
    "    # Extract the historical data for the specified ticker using the previously defined function\n",
    "    sub_df = get_sub_df_ticker(ticker, date, df_filtered, length_history)\n",
    "    \n",
    "    # Convert the single column DataFrame to DataFrame with a proper column name\n",
    "    sub_df = pd.DataFrame(sub_df, columns=[ticker])\n",
    "    \n",
    "    # Ensure the fama_french_data DataFrame index is a datetime index\n",
    "    if not isinstance(fama_french_data.index, pd.DatetimeIndex):\n",
    "        fama_french_data.index = pd.to_datetime(fama_french_data.index)\n",
    "\n",
    "    # Align the fama_french_data dates with the sub_df dates\n",
    "    fama_french_data = fama_french_data.loc[sub_df.index]\n",
    "    \n",
    "    # Subtract the risk-free rate from the ticker's returns\n",
    "    sub_df[ticker] = sub_df[ticker] - fama_french_data['RF']\n",
    "    \n",
    "    # Add other relevant Fama-French factors to the DataFrame\n",
    "    factors_to_include = ['Mkt-RF', 'SMB', 'HML', 'RMW', 'CMA', 'Mom']\n",
    "    for factor in factors_to_include:\n",
    "        sub_df[factor] = fama_french_data[factor]\n",
    "\n",
    "    return sub_df\n",
    "\n",
    "\n",
    "sub_df_with_ff = df_ticker_with_fama_french('AAPL', '2023-01-01', df_processed, 30, ff)\n",
    "print(sub_df_with_ff.head())"
   ],
   "metadata": {
    "id": "pfsdj79HxMnp",
    "ExecuteTime": {
     "end_time": "2024-05-18T15:49:48.778718Z",
     "start_time": "2024-05-18T15:49:48.610863Z"
    }
   },
   "execution_count": 92,
   "outputs": [
    {
     "name": "stdout",
     "output_type": "stream",
     "text": [
      "                AAPL  Mkt-RF   SMB   HML   RMW   CMA   Mom\n",
      "Date                                                      \n",
      "2022-11-17 -0.001029   -0.42 -0.29  0.58  1.38  0.75  1.65\n",
      "2022-11-18 -0.010218    0.40 -0.09  0.08  0.40  0.62  1.31\n",
      "2022-11-21 -0.035680   -0.53 -0.21  0.99  0.48  1.10  1.63\n",
      "2022-11-22  0.000661    1.35 -0.38  0.43  0.72 -0.23 -0.06\n",
      "2022-11-23 -0.008074    0.63 -0.24 -0.94 -0.75 -0.57 -1.84\n"
     ]
    }
   ]
  },
  {
   "cell_type": "markdown",
   "source": [
    "---\n",
    "<font color=green>Q10: (5 Marks) </font>\n",
    "<br><font color='green'>\n",
    "Write a Python function named `extract_beta_fama_french` to perform a rolling regression analysis for a given stock at a specific time point using the Fama-French model. The function should accept the following parameters:\n",
    "\n",
    "- `ticker`: A string indicating the stock symbol.\n",
    "- `date`: A string specifying the date for the analysis.\n",
    "- `length_history`: An integer representing the number of days of historical data to include.\n",
    "- `df_filtered`: A pandas DataFrame (assumed to be derived from question 5) containing filtered stock data.\n",
    "- `fama_french_data`: A pandas DataFrame (assumed to be from question 7) that includes Fama-French factors.\n",
    "\n",
    "Utilize the `statsmodels.api` library to conduct the regression.\n",
    "</font>\n",
    "\n",
    "---"
   ],
   "metadata": {
    "id": "ykVqmW4PQe5T"
   }
  },
  {
   "cell_type": "code",
   "source": [
    "import statsmodels.api as sm\n",
    "\n",
    "def extract_beta_fama_french(ticker, date, length_history, df_filtered, fama_french_data):\n",
    "    \"\"\"\n",
    "    Performs a rolling regression analysis to estimate the beta values for a given stock using the Fama-French model.\n",
    "    \n",
    "    :param ticker: str, the stock ticker symbol.\n",
    "    :param date: str, the date for the analysis in YYYY-MM-DD format.\n",
    "    :param length_history: int, the number of trading days of historical data to include.\n",
    "    :param df_filtered: pd.DataFrame, containing the adjusted stock returns.\n",
    "    :param fama_french_data: pd.DataFrame, containing Fama-French factors.\n",
    "    \n",
    "    :return: pd.Series, beta values from the regression.\n",
    "    \"\"\"\n",
    "    \n",
    "    # Extract historical data for the ticker\n",
    "    historical_data = get_sub_df_ticker(ticker, date, df_filtered, length_history)\n",
    "    \n",
    "    # Align Fama-French factors with the historical data\n",
    "    fama_french_sub = fama_french_data.loc[historical_data.index]\n",
    "    \n",
    "    # Prepare the independent variables (add a constant to the model for the intercept)\n",
    "    X = fama_french_sub[['Mkt-RF', 'SMB', 'HML', 'RMW', 'CMA', 'Mom']]\n",
    "    X = sm.add_constant(X)  # Adds a constant term to the predictor\n",
    "\n",
    "    # Dependent variable\n",
    "    y = historical_data\n",
    "    \n",
    "    # Fit the regression model\n",
    "    model = sm.OLS(y, X, missing='drop').fit()  # Using OLS regression\n",
    "    \n",
    "    return model\n"
   ],
   "metadata": {
    "id": "VGSUB3UDxN2B",
    "ExecuteTime": {
     "end_time": "2024-05-18T16:40:45.427954Z",
     "start_time": "2024-05-18T16:40:45.400027Z"
    }
   },
   "execution_count": 117,
   "outputs": []
  },
  {
   "cell_type": "markdown",
   "source": [
    "---\n",
    "<font color=green>Q11: (2 Marks) </font>\n",
    "<br><font color='green'>\n",
    "Apply the `extract_beta_fama_french` function to the stock symbol 'AAPL' for the date '2024-03-28', using a historical data length of 252 days. Ensure that the `df_filtered` and `fama_french_data` DataFrames are correctly prepared and available in your environment before executing this function. The parameters for the function call are set as follows:\n",
    "\n",
    "- **Ticker**: 'AAPL'\n",
    "- **Date**: '2024-03-28'\n",
    "- **Length of History**: 252 days\n",
    "</font>\n",
    "\n",
    "---\n",
    "\n"
   ],
   "metadata": {
    "id": "BY8FqrBjRDTz"
   }
  },
  {
   "cell_type": "code",
   "source": [
    "aapl_reg = extract_beta_fama_french('AAPL', '2024-03-28', 252, df_processed, ff)\n",
    "print(aapl_reg.summary())"
   ],
   "metadata": {
    "id": "fo6C5-qXxPZO",
    "ExecuteTime": {
     "end_time": "2024-05-18T16:40:57.728065Z",
     "start_time": "2024-05-18T16:40:57.554456Z"
    }
   },
   "execution_count": 119,
   "outputs": [
    {
     "name": "stdout",
     "output_type": "stream",
     "text": [
      "                            OLS Regression Results                            \n",
      "==============================================================================\n",
      "Dep. Variable:                   AAPL   R-squared:                       0.481\n",
      "Model:                            OLS   Adj. R-squared:                  0.468\n",
      "Method:                 Least Squares   F-statistic:                     37.83\n",
      "Date:                Sat, 18 May 2024   Prob (F-statistic):           2.37e-32\n",
      "Time:                        17:40:57   Log-Likelihood:                 835.34\n",
      "No. Observations:                 252   AIC:                            -1657.\n",
      "Df Residuals:                     245   BIC:                            -1632.\n",
      "Df Model:                           6                                         \n",
      "Covariance Type:            nonrobust                                         \n",
      "==============================================================================\n",
      "                 coef    std err          t      P>|t|      [0.025      0.975]\n",
      "------------------------------------------------------------------------------\n",
      "const         -0.0006      0.001     -0.991      0.323      -0.002       0.001\n",
      "Mkt-RF         0.0112      0.001     12.479      0.000       0.009       0.013\n",
      "SMB            0.0004      0.001      0.417      0.677      -0.002       0.003\n",
      "HML           -0.0068      0.001     -5.359      0.000      -0.009      -0.004\n",
      "RMW            0.0048      0.001      3.413      0.001       0.002       0.008\n",
      "CMA            0.0025      0.002      1.393      0.165      -0.001       0.006\n",
      "Mom           -0.0010      0.001     -1.167      0.244      -0.003       0.001\n",
      "==============================================================================\n",
      "Omnibus:                       39.646   Durbin-Watson:                   1.720\n",
      "Prob(Omnibus):                  0.000   Jarque-Bera (JB):               96.418\n",
      "Skew:                          -0.727   Prob(JB):                     1.16e-21\n",
      "Kurtosis:                       5.659   Cond. No.                         4.05\n",
      "==============================================================================\n",
      "\n",
      "Notes:\n",
      "[1] Standard Errors assume that the covariance matrix of the errors is correctly specified.\n"
     ]
    }
   ]
  },
  {
   "cell_type": "markdown",
   "source": [
    "---\n",
    "<font color=green>Q12: (2 Marks)</font>\n",
    "<br><font color='green'>\n",
    "Once the `extract_beta_fama_french` function has been applied to 'AAPL' with the specified parameters, the next step is to analyze the regression summary to identify which Fama-French factor explains the most variance in 'AAPL' returns during the specified period.\n",
    "\n",
    "Follow these steps to perform the analysis:\n",
    "\n",
    "1. **Review the Summary**: Examine the regression output, focusing on the coefficients and their statistical significance (p-values).\n",
    "2. **Identify Key Factor**: Determine which factor has the highest absolute coefficient value and is statistically significant (typically p < 0.05). This factor can be considered as having the strongest influence on 'AAPL' returns for the period.\n",
    "\n",
    "</font>\n",
    "\n",
    "---"
   ],
   "metadata": {
    "id": "-DyA4G1d0HjY"
   }
  },
  {
   "cell_type": "markdown",
   "source": [
    "**Write your answers here:**"
   ],
   "metadata": {
    "id": "thaIsaiFWWNO"
   }
  },
  {
   "cell_type": "markdown",
   "metadata": {
    "id": "Pj7qlAq-J8N2"
   },
   "source": [
    "# PCA Analysis"
   ]
  },
  {
   "cell_type": "markdown",
   "source": [
    "\n",
    "In literature, another method exists for extracting residuals for each stock, utilizing the PCA approach to identify hidden factors in the data. Let's describe this method.\n",
    "\n",
    "The return of a stock $R_i^t$ at time $t$ can be modeled as follows :\n",
    "\n",
    "$$\n",
    "R_i^t  = \\sum_{j=1}^m\\beta_{i,j}^t F_j^t  + \\epsilon_i^t\n",
    "$$\n",
    "\n",
    "Where:\n",
    "- $ R_i^t $ is the return of stock $i$ at time $t$\n",
    "- $m$ is the number of factors selected from PCA\n",
    "-  $ F_j^t $ is the $j$-th hidden factor constructed from PCA at time $t$\n",
    "- $\\beta_{i,j}^t $ are the coefficients representing the sensitivity of the stock returns to each hidden factor.\n",
    "- $\\epsilon_i^t $  is the residual term for stock $i$ at time $t$, representing the portion of the return not explained by the PCA factors.\n",
    "\n",
    "### Representation of Stock Return Data\n",
    "\n",
    "Consider the return data for $N$ stocks over $T$ periods, represented by the matrix $R$ of size $T \\times N$:\n",
    "\n",
    "$$\n",
    "R = \\left[\n",
    "\\begin{array}{cccc}\n",
    "R_1^T & R_2^T & \\cdots & R_N^T \\\\\n",
    "R_1^{T-1} & R_2^{T-1} & \\cdots & R_N^{T-1} \\\\\n",
    "\\vdots & \\vdots & \\ddots & \\vdots \\\\\n",
    "R_1^1 & R_2^1 & \\cdots & R_N^1 \\\\\n",
    "\\end{array}\n",
    "\\right]\n",
    "$$\n",
    "\n",
    "Each element $R_i^k$ of the matrix represents the return of stock $i$ at time $k$ and is defined as:\n",
    "\n",
    "$$\n",
    "R_i^k = \\frac{S_{i,k} - S_{i, k-1}}{S_{i, k-1}}, \\quad k=1,\\cdots, T, \\quad i=1,\\cdots,N\n",
    "$$\n",
    "\n",
    "where $S_{i,k}$ denotes the adjusted close price of stock $i$ at time $k$.\n",
    "\n",
    "### Standardization of Returns\n",
    "\n",
    "To adjust for varying volatilities across stocks, we standardize the returns as follows:\n",
    "\n",
    "$$\n",
    "Z_i^t = \\frac{R_i^t - \\mu_i}{\\sigma_i}\n",
    "$$\n",
    "\n",
    "where $\\mu_i$ and $\\sigma_i$ are the mean and standard deviation of returns for stock $i$ over the period $[t-T, t]$, respectively.\n",
    "\n",
    "### Empirical Correlation Matrix\n",
    "\n",
    "The empirical correlation matrix $C$ is computed from the standardized returns:\n",
    "\n",
    "$$\n",
    "C = \\frac{1}{T-1} Z^T Z\n",
    "$$\n",
    "\n",
    "where $Z^T$ is the transpose of matrix $Z$.\n",
    "\n",
    "### Singular Value Decomposition (SVD)\n",
    "\n",
    "We apply Singular Value Decomposition to the correlation matrix $C$:\n",
    "\n",
    "$$\n",
    "C = U \\Sigma V^T\n",
    "$$\n",
    "\n",
    "Here, $U$ and $V$ are orthogonal matrices representing the left and right singular vectors, respectively, and $\\Sigma$ is a diagonal matrix containing the singular values, which are the square roots of the eigenvalues.\n",
    "\n",
    "### Construction of Hidden Factors\n",
    "\n",
    "For each of the top $m$ components, we construct the selected hidden factors as follows:\n",
    "\n",
    "$$\n",
    "F_j^t = \\sum_{i=1}^N \\frac{\\lambda_{i,j}}{\\sigma_i} R_i^t\n",
    "$$\n",
    "\n",
    "where $\\lambda_{i,j}$ is the $i$-th component of the $j$-th eigenvector (ranked by eigenvalue magnitude).\n"
   ],
   "metadata": {
    "id": "Qty6V05YXxti"
   }
  },
  {
   "cell_type": "markdown",
   "source": [
    "---\n",
    "<font color=green>Q13 (3 Marks):\n",
    "\n",
    "For the specified period from March 29, 2023 ('2023-03-29'), to March 28, 2024 ('2024-03-28'), generate the matrix $Z$ by standardizing the stock returns using the DataFrame `df_filtered_new`\n",
    "</font>\n",
    "\n",
    "---\n"
   ],
   "metadata": {
    "id": "XIkNjUbFZ3Wy"
   }
  },
  {
   "cell_type": "code",
   "source": [
    "start_date = '2023-03-29'\n",
    "end_date = '2024-03-28'\n",
    "df_filtered_new = df_processed.loc[start_date:end_date]\n",
    "mean_returns = df_filtered_new.mean()\n",
    "std_returns = df_filtered_new.std()\n",
    "\n",
    "# Apply the standardization formula: (X - mean) / std\n",
    "Z = (df_filtered_new - mean_returns) / std_returns\n",
    "print(Z.head())"
   ],
   "metadata": {
    "id": "AqhmrY9xcbnk",
    "ExecuteTime": {
     "end_time": "2024-05-19T13:09:38.943155Z",
     "start_time": "2024-05-19T13:09:38.916013Z"
    }
   },
   "execution_count": 127,
   "outputs": [
    {
     "name": "stdout",
     "output_type": "stream",
     "text": [
      "                ADBE       ADP     GOOGL      GOOG      AMZN       AMD  \\\n",
      "Date                                                                     \n",
      "2023-03-29  0.658925  2.189521  0.106285  0.207821  1.503570  0.444433   \n",
      "2023-03-30  0.273051 -0.221306 -0.389329 -0.434766  0.787034  0.526996   \n",
      "2023-03-31  0.360570  1.136308  1.540732  1.439604  0.531735 -0.056439   \n",
      "2023-04-03 -0.713053 -2.259591  0.252735  0.407399 -0.591892 -0.600163   \n",
      "2023-04-04  0.560730 -1.137430  0.099652  0.013877  0.658632 -0.342217   \n",
      "\n",
      "                 AEP      AMGN       ADI      ANSS  ...      TTWO      TMUS  \\\n",
      "Date                                                ...                       \n",
      "2023-03-29  1.020467  0.727398  1.860839  0.356414  ...  0.517876  0.615242   \n",
      "2023-03-30  0.277291  0.076716  1.630406  0.936497  ... -0.109884  0.439972   \n",
      "2023-03-31  0.475365  0.008639  0.935425  1.044069  ...  1.337544  0.117646   \n",
      "2023-04-03 -0.086824  0.759731 -0.328378 -0.555499  ... -0.377687  1.191774   \n",
      "2023-04-04  0.223111  0.872403 -0.399698 -0.127907  ...  1.434972 -0.347689   \n",
      "\n",
      "                TSLA       TXN      VRSK      VRTX       WBA       WBD  \\\n",
      "Date                                                                     \n",
      "2023-03-29  0.814986  1.344650  1.105776  0.127319  0.497115  0.429736   \n",
      "2023-03-30  0.233493  1.187056  0.239468 -0.525980  0.691243  0.446100   \n",
      "2023-03-31  2.058867  0.640237  0.325258  0.538943 -0.008816  0.565842   \n",
      "2023-04-03 -2.030038 -0.684867 -0.214460  0.183344  1.205798 -0.547975   \n",
      "2023-04-04 -0.377655 -1.394525 -0.538698 -0.487155  0.553153  0.755053   \n",
      "\n",
      "                WDAY       XEL  \n",
      "Date                            \n",
      "2023-03-29  2.277783  1.269711  \n",
      "2023-03-30  0.389915  0.430715  \n",
      "2023-03-31  1.611597  0.597545  \n",
      "2023-04-03 -0.634285  0.121519  \n",
      "2023-04-04 -0.537767  1.011197  \n",
      "\n",
      "[5 rows x 89 columns]\n"
     ]
    }
   ]
  },
  {
   "cell_type": "markdown",
   "source": [
    "---\n",
    "<font color=green>Q14: (1 Mark) </font>\n",
    "<br><font color='green'>\n",
    "Download the `Z_matrix` matrix from the course's GitHub account.\n",
    "</font>\n",
    "\n",
    "---"
   ],
   "metadata": {
    "id": "Quv2tOhXch4-"
   }
  },
  {
   "cell_type": "code",
   "source": [
    "Z_matrix = pd.read_csv('Z_matrix.csv')\n",
    "Z_matrix = Z_matrix.set_index('Date')\n",
    "print(Z_matrix.head())"
   ],
   "metadata": {
    "id": "NmSz-J_oxYQa",
    "ExecuteTime": {
     "end_time": "2024-05-19T13:18:07.984711Z",
     "start_time": "2024-05-19T13:18:07.878580Z"
    }
   },
   "execution_count": 136,
   "outputs": [
    {
     "name": "stdout",
     "output_type": "stream",
     "text": [
      "                ADBE       ADP     GOOGL      GOOG      AMZN       AMD  \\\n",
      "Date                                                                     \n",
      "2023-03-29  0.658925  2.189521  0.106285  0.207821  1.503570  0.444433   \n",
      "2023-03-30  0.273051 -0.221306 -0.389329 -0.434766  0.787034  0.526996   \n",
      "2023-03-31  0.360570  1.136308  1.540732  1.439604  0.531735 -0.056439   \n",
      "2023-04-03 -0.713053 -2.259591  0.252735  0.407399 -0.591892 -0.600163   \n",
      "2023-04-04  0.560730 -1.137430  0.099652  0.013877  0.658632 -0.342217   \n",
      "\n",
      "                 AEP      AMGN       ADI      ANSS  ...      TTWO      TMUS  \\\n",
      "Date                                                ...                       \n",
      "2023-03-29  1.020467  0.727398  1.860839  0.356414  ...  0.517876  0.615242   \n",
      "2023-03-30  0.277291  0.076716  1.630406  0.936497  ... -0.109884  0.439972   \n",
      "2023-03-31  0.475365  0.008639  0.935425  1.044069  ...  1.337544  0.117646   \n",
      "2023-04-03 -0.086824  0.759731 -0.328378 -0.555499  ... -0.377687  1.191774   \n",
      "2023-04-04  0.223111  0.872403 -0.399698 -0.127907  ...  1.434972 -0.347689   \n",
      "\n",
      "                TSLA       TXN      VRSK      VRTX       WBA       WBD  \\\n",
      "Date                                                                     \n",
      "2023-03-29  0.814986  1.344650  1.105776  0.127319  0.497115  0.429736   \n",
      "2023-03-30  0.233493  1.187056  0.239468 -0.525980  0.691243  0.446100   \n",
      "2023-03-31  2.058867  0.640237  0.325258  0.538943 -0.008816  0.565842   \n",
      "2023-04-03 -2.030038 -0.684867 -0.214460  0.183344  1.205798 -0.547975   \n",
      "2023-04-04 -0.377655 -1.394525 -0.538698 -0.487155  0.553153  0.755053   \n",
      "\n",
      "                WDAY       XEL  \n",
      "Date                            \n",
      "2023-03-29  2.277783  1.269711  \n",
      "2023-03-30  0.389915  0.430715  \n",
      "2023-03-31  1.611597  0.597545  \n",
      "2023-04-03 -0.634285  0.121519  \n",
      "2023-04-04 -0.537767  1.011197  \n",
      "\n",
      "[5 rows x 89 columns]\n"
     ]
    }
   ]
  },
  {
   "cell_type": "markdown",
   "source": [
    "---\n",
    "<font color=green>Q15: (3 Marks) </font>\n",
    "<br><font color='green'>\n",
    "For the specified period from March 29, 2023 ('2023-03-29'), to March 28, 2024 ('2024-03-28'), compute the correlation matrix\n",
    "$C$ using the matrix `Z_matrix`.\n",
    "</font>\n",
    "\n",
    "---"
   ],
   "metadata": {
    "id": "2d-2MrrzatMc"
   }
  },
  {
   "cell_type": "code",
   "source": [
    "C = Z_matrix.T.dot(Z_matrix) / (len(Z_matrix) - 1)\n",
    "print(C)"
   ],
   "metadata": {
    "id": "2rRt-HL1xZqA",
    "ExecuteTime": {
     "end_time": "2024-05-19T13:18:21.332966Z",
     "start_time": "2024-05-19T13:18:21.299783Z"
    }
   },
   "execution_count": 138,
   "outputs": [
    {
     "name": "stdout",
     "output_type": "stream",
     "text": [
      "           ADBE       ADP     GOOGL      GOOG      AMZN       AMD       AEP  \\\n",
      "ADBE   1.000000  0.218513  0.397890  0.400601  0.463488  0.444032 -0.035967   \n",
      "ADP    0.218513  1.000000  0.294213  0.298841  0.168206  0.045884  0.228457   \n",
      "GOOGL  0.397890  0.294213  1.000000  0.997415  0.521199  0.371105 -0.006803   \n",
      "GOOG   0.400601  0.298841  0.997415  1.000000  0.525626  0.371568 -0.004037   \n",
      "AMZN   0.463488  0.168206  0.521199  0.525626  1.000000  0.463049 -0.010849   \n",
      "...         ...       ...       ...       ...       ...       ...       ...   \n",
      "VRTX   0.164760  0.176771  0.142447  0.146190  0.104962  0.039540  0.239861   \n",
      "WBA    0.033955  0.142369  0.052710  0.060822  0.017926  0.002629  0.309717   \n",
      "WBD    0.099841  0.243986  0.042072  0.045516  0.162937  0.092733  0.325463   \n",
      "WDAY   0.418110  0.320836  0.289137  0.293575  0.403757  0.334587  0.017659   \n",
      "XEL    0.019105  0.164682  0.025701  0.026392 -0.058870 -0.214673  0.617318   \n",
      "\n",
      "           AMGN       ADI      ANSS  ...      TTWO      TMUS      TSLA  \\\n",
      "ADBE   0.198781  0.321991  0.387483  ...  0.257931  0.102167  0.268863   \n",
      "ADP    0.214813  0.279607  0.238355  ...  0.290311  0.113985  0.178128   \n",
      "GOOGL  0.118938  0.222252  0.292286  ...  0.238219  0.086673  0.267941   \n",
      "GOOG   0.118296  0.223710  0.294542  ...  0.242111  0.091456  0.268114   \n",
      "AMZN   0.123745  0.290872  0.342042  ...  0.222346  0.120301  0.303368   \n",
      "...         ...       ...       ...  ...       ...       ...       ...   \n",
      "VRTX   0.281759  0.110189  0.142121  ...  0.180810  0.139184  0.144443   \n",
      "WBA    0.214701  0.208907  0.096813  ...  0.115189  0.063538  0.168495   \n",
      "WBD    0.220342  0.310681  0.095919  ...  0.129023  0.084315  0.282265   \n",
      "WDAY   0.068097  0.315426  0.382360  ...  0.293949  0.142648  0.277744   \n",
      "XEL    0.283399  0.029036  0.072063  ...  0.074596  0.249106  0.023168   \n",
      "\n",
      "            TXN      VRSK      VRTX       WBA       WBD      WDAY       XEL  \n",
      "ADBE   0.326597  0.171580  0.164760  0.033955  0.099841  0.418110  0.019105  \n",
      "ADP    0.297954  0.325258  0.176771  0.142369  0.243986  0.320836  0.164682  \n",
      "GOOGL  0.192188  0.178622  0.142447  0.052710  0.042072  0.289137  0.025701  \n",
      "GOOG   0.198044  0.180110  0.146190  0.060822  0.045516  0.293575  0.026392  \n",
      "AMZN   0.299500  0.144325  0.104962  0.017926  0.162937  0.403757 -0.058870  \n",
      "...         ...       ...       ...       ...       ...       ...       ...  \n",
      "VRTX   0.198258  0.251863  1.000000  0.159124  0.062726  0.101851  0.184369  \n",
      "WBA    0.199627  0.038371  0.159124  1.000000  0.361533  0.010855  0.194839  \n",
      "WBD    0.355450  0.002990  0.062726  0.361533  1.000000  0.160860  0.183837  \n",
      "WDAY   0.346161  0.195588  0.101851  0.010855  0.160860  1.000000 -0.019310  \n",
      "XEL    0.062496  0.151549  0.184369  0.194839  0.183837 -0.019310  1.000000  \n",
      "\n",
      "[89 rows x 89 columns]\n"
     ]
    }
   ]
  },
  {
   "cell_type": "markdown",
   "source": [
    "---\n",
    "<font color=green>Q16: (2 Marks) </font>\n",
    "<br><font color='green'>\n",
    "Refind the correlation matrix from the from March 29, 2023 ('2023-03-29'), to March 28, 2024 ('2024-03-28') using pandas correlation matrix method.\n",
    "</font>\n",
    "\n",
    "---"
   ],
   "metadata": {
    "id": "7FnUvUEkjAbG"
   }
  },
  {
   "cell_type": "code",
   "source": [
    "C = Z_matrix.corr()\n",
    "print(C)"
   ],
   "metadata": {
    "id": "T_g-VjITxasb",
    "ExecuteTime": {
     "end_time": "2024-05-19T13:19:27.446464Z",
     "start_time": "2024-05-19T13:19:27.401996Z"
    }
   },
   "execution_count": 139,
   "outputs": [
    {
     "name": "stdout",
     "output_type": "stream",
     "text": [
      "           ADBE       ADP     GOOGL      GOOG      AMZN       AMD       AEP  \\\n",
      "ADBE   1.000000  0.218513  0.397890  0.400601  0.463488  0.444032 -0.035967   \n",
      "ADP    0.218513  1.000000  0.294213  0.298841  0.168206  0.045884  0.228457   \n",
      "GOOGL  0.397890  0.294213  1.000000  0.997415  0.521199  0.371105 -0.006803   \n",
      "GOOG   0.400601  0.298841  0.997415  1.000000  0.525626  0.371568 -0.004037   \n",
      "AMZN   0.463488  0.168206  0.521199  0.525626  1.000000  0.463049 -0.010849   \n",
      "...         ...       ...       ...       ...       ...       ...       ...   \n",
      "VRTX   0.164760  0.176771  0.142447  0.146190  0.104962  0.039540  0.239861   \n",
      "WBA    0.033955  0.142369  0.052710  0.060822  0.017926  0.002629  0.309717   \n",
      "WBD    0.099841  0.243986  0.042072  0.045516  0.162937  0.092733  0.325463   \n",
      "WDAY   0.418110  0.320836  0.289137  0.293575  0.403757  0.334587  0.017659   \n",
      "XEL    0.019105  0.164682  0.025701  0.026392 -0.058870 -0.214673  0.617318   \n",
      "\n",
      "           AMGN       ADI      ANSS  ...      TTWO      TMUS      TSLA  \\\n",
      "ADBE   0.198781  0.321991  0.387483  ...  0.257931  0.102167  0.268863   \n",
      "ADP    0.214813  0.279607  0.238355  ...  0.290311  0.113985  0.178128   \n",
      "GOOGL  0.118938  0.222252  0.292286  ...  0.238219  0.086673  0.267941   \n",
      "GOOG   0.118296  0.223710  0.294542  ...  0.242111  0.091456  0.268114   \n",
      "AMZN   0.123745  0.290872  0.342042  ...  0.222346  0.120301  0.303368   \n",
      "...         ...       ...       ...  ...       ...       ...       ...   \n",
      "VRTX   0.281759  0.110189  0.142121  ...  0.180810  0.139184  0.144443   \n",
      "WBA    0.214701  0.208907  0.096813  ...  0.115189  0.063538  0.168495   \n",
      "WBD    0.220342  0.310681  0.095919  ...  0.129023  0.084315  0.282265   \n",
      "WDAY   0.068097  0.315426  0.382360  ...  0.293949  0.142648  0.277744   \n",
      "XEL    0.283399  0.029036  0.072063  ...  0.074596  0.249106  0.023168   \n",
      "\n",
      "            TXN      VRSK      VRTX       WBA       WBD      WDAY       XEL  \n",
      "ADBE   0.326597  0.171580  0.164760  0.033955  0.099841  0.418110  0.019105  \n",
      "ADP    0.297954  0.325258  0.176771  0.142369  0.243986  0.320836  0.164682  \n",
      "GOOGL  0.192188  0.178622  0.142447  0.052710  0.042072  0.289137  0.025701  \n",
      "GOOG   0.198044  0.180110  0.146190  0.060822  0.045516  0.293575  0.026392  \n",
      "AMZN   0.299500  0.144325  0.104962  0.017926  0.162937  0.403757 -0.058870  \n",
      "...         ...       ...       ...       ...       ...       ...       ...  \n",
      "VRTX   0.198258  0.251863  1.000000  0.159124  0.062726  0.101851  0.184369  \n",
      "WBA    0.199627  0.038371  0.159124  1.000000  0.361533  0.010855  0.194839  \n",
      "WBD    0.355450  0.002990  0.062726  0.361533  1.000000  0.160860  0.183837  \n",
      "WDAY   0.346161  0.195588  0.101851  0.010855  0.160860  1.000000 -0.019310  \n",
      "XEL    0.062496  0.151549  0.184369  0.194839  0.183837 -0.019310  1.000000  \n",
      "\n",
      "[89 rows x 89 columns]\n"
     ]
    }
   ]
  },
  {
   "cell_type": "markdown",
   "source": [
    "---\n",
    "<font color=green>Q17: (7 Marks) </font>\n",
    "<br><font color='green'>\n",
    "Conduct Singular Value Decomposition on the correlation matrix $C$. Follow these steps:\n",
    "\n",
    "\n",
    "1.   **Perform SVD**: Decompose the matrix $C$ into its singular values and vectors.\n",
    "2.   **Rank Eigenvalues**: Sort the resulting singular values (often squared to compare to eigenvalues) in descending order.\n",
    "3. **Select Components**: Extract the first 20 components based on the largest singular values.\n",
    "4. **Variance Explained**: Print the variance explained by the first 20 Components and dimensions of differents matrix that you created.\n",
    "\n",
    "</font>\n",
    "\n",
    "---"
   ],
   "metadata": {
    "id": "lvsiMvgfaxzW"
   }
  },
  {
   "cell_type": "code",
   "source": [
    "import numpy as np\n",
    "# Perform Singular Value Decomposition\n",
    "U, s, V_T = np.linalg.svd(C)\n",
    "\n",
    "# Square singular values for variance comparison\n",
    "squared_singular_values = s**2\n",
    "\n",
    "# Select first 20 components\n",
    "first_20_singular_values = s[:20]\n",
    "first_20_vectors = V_T[:20, :]\n",
    "\n",
    "# Variance explained\n",
    "total_variance = sum(squared_singular_values)\n",
    "variance_explained_by_20 = sum(squared_singular_values[:20])\n",
    "variance_explained_ratio_20 = variance_explained_by_20 / total_variance\n",
    "\n",
    "# Print results\n",
    "print(\"Variance explained by the first 20 components:\", variance_explained_ratio_20)\n",
    "print(\"Dimensions of U matrix:\", U.shape)\n",
    "print(\"Dimensions of s (singular values) vector:\", s.shape)\n",
    "print(\"Dimensions of VT matrix:\", V_T.shape)\n",
    "print(\"Dimensions of the matrix containing the first 20 vectors:\", first_20_vectors.shape)"
   ],
   "metadata": {
    "id": "pohRSmSExbkq",
    "ExecuteTime": {
     "end_time": "2024-05-19T13:27:24.647875Z",
     "start_time": "2024-05-19T13:27:24.617448Z"
    }
   },
   "execution_count": 147,
   "outputs": [
    {
     "name": "stdout",
     "output_type": "stream",
     "text": [
      "Variance explained by the first 20 components: 0.9724245358638195\n",
      "Dimensions of U matrix: (89, 89)\n",
      "Dimensions of s (singular values) vector: (89,)\n",
      "Dimensions of VT matrix: (89, 89)\n",
      "Dimensions of the matrix containing the first 20 vectors: (20, 89)\n"
     ]
    }
   ]
  },
  {
   "cell_type": "markdown",
   "source": [
    "---\n",
    "<font color=green>Q18: (6 Marks) </font>\n",
    "<br><font color='green'>\n",
    "Extract the 20 hidden factors in a matrix F. Check that shape of F is $(252,20)$\n",
    "</font>\n",
    "\n",
    "</font>\n",
    "\n",
    "---"
   ],
   "metadata": {
    "id": "a3sZ7K-Tb6S_"
   }
  },
  {
   "cell_type": "code",
   "source": [
    "eigenvalues, eigenvectors = np.linalg.eigh(C)  # Use eigh, as 'C' is symmetric\n",
    "\n",
    "# Sort the eigenvectors by eigenvalues in descending order\n",
    "sorted_indices = np.argsort(eigenvalues)[::-1]\n",
    "eigenvectors = eigenvectors[:, sorted_indices]\n",
    "eigenvalues = eigenvalues[sorted_indices]\n",
    "\n",
    "standard_devs = df_filtered_new.std()\n",
    "normalized_returns = df_filtered_new / standard_devs\n",
    "\n",
    "num_components = 20  # Number of components you want to keep\n",
    "F = np.dot(normalized_returns, eigenvectors[:, :num_components])\n",
    "\n",
    "print(F.shape)"
   ],
   "metadata": {
    "id": "CzT32wMixcjq",
    "ExecuteTime": {
     "end_time": "2024-05-19T13:50:52.121077Z",
     "start_time": "2024-05-19T13:50:52.066309Z"
    }
   },
   "execution_count": 151,
   "outputs": [
    {
     "name": "stdout",
     "output_type": "stream",
     "text": [
      "(252, 20)\n"
     ]
    }
   ]
  },
  {
   "cell_type": "markdown",
   "source": [
    "---\n",
    "<font color=green>Q19: (3 Marks) </font>\n",
    "<br><font color='green'>\n",
    "Perform the Regression Analysis of 'AAPL' for the date '2024-03-28', using a historical data length of 252 days using previous $F$ Matrix. Compare the R-squared from the ones obtained at Q11.\n",
    "</font>\n",
    "\n",
    "</font>\n",
    "\n",
    "---"
   ],
   "metadata": {
    "id": "nz-ncrUmCAVW"
   }
  },
  {
   "cell_type": "code",
   "source": [
    "# Assuming df_filtered_new is indexed by date and includes 'AAPL'\n",
    "aapl_returns = df_filtered_new['AAPL']\n",
    "\n",
    "# Add a constant to the matrix F for the intercept term\n",
    "F_with_const = sm.add_constant(F)\n",
    "\n",
    "# Fit the OLS model\n",
    "model = sm.OLS(aapl_returns, F_with_const)\n",
    "results = model.fit()\n",
    "print(results.rsquared) #R-squared in Question11 is 0.418\n",
    "\n",
    "print('Therefore, the R^2 using F matrix is better.')"
   ],
   "metadata": {
    "id": "vcPG6YWoxdgn",
    "ExecuteTime": {
     "end_time": "2024-05-19T13:56:24.479776Z",
     "start_time": "2024-05-19T13:56:24.456030Z"
    }
   },
   "execution_count": 155,
   "outputs": [
    {
     "name": "stdout",
     "output_type": "stream",
     "text": [
      "0.615402047975023\n",
      "Therefore, the R^2 using F matrix is better.\n"
     ]
    }
   ]
  },
  {
   "cell_type": "markdown",
   "source": [
    "# Ornstein Uhlenbeck\n",
    "\n",
    "The Ornstein-Uhlenbeck process is defined by the following stochastic differential equation (SDE):\n",
    "\n",
    "$$ dX_t = \\theta (\\mu - X_t) dt + \\sigma dW_t $$\n",
    "\n",
    "where:\n",
    "\n",
    "- **$ X_t $**: The value of the process at time $ t $.\n",
    "- **$ \\mu $**: The long-term mean (equilibrium level) to which the process reverts.\n",
    "- **$ \\theta $**: The speed of reversion or the rate at which the process returns to the mean.\n",
    "- **$ \\sigma $**: The volatility (standard deviation), representing the magnitude of random fluctuations.\n",
    "- **$ W_t $**: A Wiener process or Brownian motion that adds stochastic (random) noise.\n",
    "\n",
    "This equation describes a process where the variable $ X_t $ moves towards the mean $ \\mu $ at a rate determined by $ \\theta $, with random noise added by $ \\sigma dW_t $."
   ],
   "metadata": {
    "id": "IDU8xmpi_ueR"
   }
  },
  {
   "cell_type": "markdown",
   "source": [
    "---\n",
    "<font color=green>Q20: (3 Marks) </font>\n",
    "<br><font color='green'>\n",
    "In the context of mean reversion, which quantity should be modeled using an Ornstein-Uhlenbeck process?\n",
    "</font>\n",
    "\n",
    "---"
   ],
   "metadata": {
    "id": "1HMYOiWsP53c"
   }
  },
  {
   "cell_type": "markdown",
   "source": [
    "**Write your answers here:**"
   ],
   "metadata": {
    "id": "SiO01w7fO_bR"
   }
  },
  {
   "cell_type": "markdown",
   "source": [
    "---\n",
    "<font color=green>Q21: (5 Marks) </font>\n",
    "<br><font color='green'>\n",
    "Explain how the parameters $ \\theta $ and $ \\sigma $ can be determined using the following equations. Also, detail the underlying assumptions:\n",
    "$$ E[X] = \\mu $$\n",
    "$$ \\text{Var}[X] = \\frac{\\sigma^2}{2\\theta} $$\n",
    "</font>\n",
    "\n",
    "---"
   ],
   "metadata": {
    "id": "t31Q2iWgQgsO"
   }
  },
  {
   "cell_type": "markdown",
   "source": [
    "**Write your answers here:**"
   ],
   "metadata": {
    "id": "v_KjMbQplj4U"
   }
  },
  {
   "cell_type": "markdown",
   "source": [
    "---\n",
    "<font color=green>Q22: (2 Marks) </font>\n",
    "<br><font color='green'>\n",
    "Create a function named `extract_s_scores` which computes 's scores' for the last element in a list of floating-point numbers. This function calculates the scores using the following formula $ \\text{s scores} = \\frac{X_T - \\mu}{\\sigma} $ where `list_xi` represents a list containing a sequence of floating-point numbers $(X_0, \\cdots, X_T)$.\n",
    "\n",
    "</font>\n",
    "\n",
    "---"
   ],
   "metadata": {
    "id": "5JvTPsTTSMp4"
   }
  },
  {
   "cell_type": "code",
   "source": [
    "def extract_s_scores(list_xi):\n",
    "    \"\"\"\n",
    "    Computes the 's scores' for the last element in the list of floating-point numbers.\n",
    "    \n",
    "    Args:\n",
    "    list_xi (list of float): A list containing a sequence of floating-point numbers.\n",
    "\n",
    "    Returns:\n",
    "    float: The 's scores' for the last element in the list.\n",
    "    \"\"\"\n",
    "    \n",
    "    # Convert the list to a NumPy array for efficient numerical operations\n",
    "    array_xi = np.array(list_xi)\n",
    "    \n",
    "    # Calculate the mean (mu) of the list\n",
    "    mu = np.mean(array_xi)\n",
    "    \n",
    "    # Calculate the standard deviation (sigma) of the list\n",
    "    sigma = np.std(array_xi)\n",
    "\n",
    "    # Get the last element (X_T) in the list\n",
    "    x_t = array_xi[-1]\n",
    "    \n",
    "    # Compute the 's scores' for the last element using the given formula\n",
    "    s_scores = (x_t - mu) / sigma\n",
    "    \n",
    "    return s_scores"
   ],
   "metadata": {
    "id": "unNHgTj8xkv5",
    "ExecuteTime": {
     "end_time": "2024-05-19T15:05:36.717599Z",
     "start_time": "2024-05-19T15:05:36.691007Z"
    }
   },
   "execution_count": 156,
   "outputs": []
  },
  {
   "cell_type": "markdown",
   "source": [
    "# Autoencoder Analysis\n",
    "\n",
    "Autoencoders are neural networks used for unsupervised learning, particularly for dimensionality reduction and feature extraction. Training an autoencoder on the $Z_i$ matrix aims to identify hidden factors capturing the intrinsic structures in financial data.\n",
    "\n",
    "### Architecture\n",
    "- **Encoder**: Compresses input data into a smaller latent space representation.\n",
    "  - *Input Layer*: Matches the number of features in the $Z_i$ matrix.\n",
    "  - *Hidden Layers*: Compress data through progressively smaller layers.\n",
    "  - *Latent Space*: Encodes the data into hidden factors.\n",
    "- **Decoder**: Reconstructs input data from the latent space.\n",
    "  - *Hidden Layers*: Gradually expand to the original dimension.\n",
    "  - *Output Layer*: Matches the input layer to recreate the original matrix.\n",
    "\n",
    "### Training\n",
    "The autoencoder is trained by minimizing reconstruction loss, usually mean squared error (MSE), between the input $Z_i$ matrix and the decoder's output.\n",
    "\n",
    "### Hidden Factors Extraction\n",
    "After training, the encoder's latent space provides the most important underlying patterns in the stock returns."
   ],
   "metadata": {
    "id": "jAB_ANF2gCiY"
   }
  },
  {
   "cell_type": "markdown",
   "source": [
    "---\n",
    "<font color=green>Q23: (2 Marks) </font>\n",
    "<br><font color='green'>\n",
    "Modify the standardized returns matrix `Z_matrix` to reduce the influence of extreme outliers on model trainingby ensuring that all values in the matrix `Z_matrix` do not exceed 3 standard deviations from the mean. Specifically, cap these values at the interval $-3, 3]$. Store the adjusted values in a new matrix, `Z_hat`.\n",
    "</font>\n",
    "\n",
    "----"
   ],
   "metadata": {
    "id": "AJzNtknXgdqF"
   }
  },
  {
   "cell_type": "code",
   "source": [
    "Z_hat1 = Z_matrix.clip(-3, 3)\n",
    "\n",
    "print(Z_hat1.max())"
   ],
   "metadata": {
    "id": "Ln7vWV0TxmFk",
    "ExecuteTime": {
     "end_time": "2024-05-19T15:13:45.812501Z",
     "start_time": "2024-05-19T15:13:45.659797Z"
    }
   },
   "execution_count": 165,
   "outputs": [
    {
     "name": "stdout",
     "output_type": "stream",
     "text": [
      "ADBE     3.000000\n",
      "ADP      3.000000\n",
      "GOOGL    3.000000\n",
      "GOOG     3.000000\n",
      "AMZN     3.000000\n",
      "           ...   \n",
      "VRTX     3.000000\n",
      "WBA      3.000000\n",
      "WBD      3.000000\n",
      "WDAY     3.000000\n",
      "XEL      2.794635\n",
      "Length: 89, dtype: float64\n"
     ]
    }
   ]
  },
  {
   "cell_type": "markdown",
   "source": [
    "---\n",
    "<font color=green>Q24: (1 Marks) </font>\n",
    "<br><font color='green'>\n",
    "Fetch the `Z_hat` data from GitHub, and we'll proceed with it now.\n",
    "</font>\n",
    "\n"
   ],
   "metadata": {
    "id": "BNJDLYZ9g_V4"
   }
  },
  {
   "cell_type": "code",
   "source": [
    "Z_hat = pd.read_csv('Z_hat.csv')\n",
    "Z_hat = Z_hat.set_index('Date')\n",
    "print(Z_hat.max())"
   ],
   "metadata": {
    "id": "BraH_nivxngd",
    "ExecuteTime": {
     "end_time": "2024-05-19T15:38:31.739915Z",
     "start_time": "2024-05-19T15:38:31.652226Z"
    }
   },
   "execution_count": 170,
   "outputs": [
    {
     "name": "stdout",
     "output_type": "stream",
     "text": [
      "ADBE     3.000000\n",
      "ADP      3.000000\n",
      "GOOGL    3.000000\n",
      "GOOG     3.000000\n",
      "AMZN     3.000000\n",
      "           ...   \n",
      "VRTX     3.000000\n",
      "WBA      3.000000\n",
      "WBD      3.000000\n",
      "WDAY     3.000000\n",
      "XEL      2.794635\n",
      "Length: 89, dtype: float64\n"
     ]
    }
   ]
  },
  {
   "cell_type": "markdown",
   "source": [
    "---\n",
    "<font color=green>Q25: (3 Marks) </font>\n",
    "<br><font color='green'>\n",
    "Segment the standardized and capped returns matrix $\\hat{Z}$ into two subsets for model training and testing. Precisly Allocate 70% of the data in $\\hat{Z}$ to the training set $ \\hat{Z}_{train} $ and Allocate the remaining 30% to the testing set $\\hat{Z}_{test}$. Treat each stock within $\\hat{Z}$ as an individual sample, by flattening temporal dependencies.\n",
    "</font>\n",
    "\n"
   ],
   "metadata": {
    "id": "c3MRBtXIiWcN"
   }
  },
  {
   "cell_type": "code",
   "source": [
    "from sklearn.model_selection import train_test_split\n",
    "\n",
    "Z_hat_train, Z_hat_test = train_test_split(Z_hat, test_size=0.30, random_state=42)\n",
    "print(Z_hat_train.shape)\n",
    "print(Z_hat_test.shape)"
   ],
   "metadata": {
    "id": "Ggdgu_3wxobS",
    "ExecuteTime": {
     "end_time": "2024-05-19T16:00:46.977544Z",
     "start_time": "2024-05-19T16:00:46.935932Z"
    }
   },
   "execution_count": 178,
   "outputs": [
    {
     "name": "stdout",
     "output_type": "stream",
     "text": [
      "(176, 89)\n",
      "(76, 89)\n"
     ]
    }
   ]
  },
  {
   "cell_type": "markdown",
   "source": [
    "---\n",
    "<font color=green>Q26: (10 Marks) </font>\n",
    "<br><font color='green'>\n",
    "Please create an autoencoder following the instructions provided in  **[End-to-End Policy Learning of a Statistical Arbitrage Autoencoder Architecture](https://arxiv.org/pdf/2402.08233.pdf)**, Use the model 'Variant 2' in Table 1.\n",
    "</font>\n",
    "\n",
    "---"
   ],
   "metadata": {
    "id": "yqWeD_efihbH"
   }
  },
  {
   "cell_type": "code",
   "source": [
    "import tensorflow as tf\n",
    "from tensorflow.keras.models import Model\n",
    "from tensorflow.keras.layers import Input, Dense\n",
    "from tensorflow.keras.activations import tanh\n",
    "\n",
    "def build_autoencoder(input_dim, encoding_dim):\n",
    "    # Input layer\n",
    "    input_layer = Input(shape=(input_dim,))\n",
    "    \n",
    "    # Encoder part\n",
    "    encoder = Dense(encoding_dim, activation=tanh, use_bias=True)(input_layer)\n",
    "    \n",
    "    # Decoder part\n",
    "    decoder = Dense(input_dim, activation=tanh, use_bias=True)(encoder)\n",
    "    \n",
    "    # Autoencoder model\n",
    "    autoencoder = Model(input_layer, decoder)\n",
    "    \n",
    "    # Compile the model\n",
    "    autoencoder.compile(optimizer='adam', loss='mean_squared_error')\n",
    "    \n",
    "    return autoencoder"
   ],
   "metadata": {
    "id": "hyf_dfsoxp_X",
    "ExecuteTime": {
     "end_time": "2024-05-19T15:50:04.667843Z",
     "start_time": "2024-05-19T15:50:04.619642Z"
    }
   },
   "execution_count": 173,
   "outputs": []
  },
  {
   "cell_type": "markdown",
   "source": [
    "---\n",
    "<font color=green>Q27 (1 Mark) :\n",
    "\n",
    "Display all the parameters of the deep neural network.\n",
    "</font>\n",
    "\n",
    "---"
   ],
   "metadata": {
    "id": "zq6o0QBPateR"
   }
  },
  {
   "cell_type": "code",
   "source": [
    "input_dim = Z_hat_train.shape[1]\n",
    "encoding_dim = 50  # Size of encoded representation\n",
    "\n",
    "autoencoder = build_autoencoder(input_dim, encoding_dim)\n",
    "autoencoder.summary()"
   ],
   "metadata": {
    "id": "yLyuzLkGxrAd",
    "ExecuteTime": {
     "end_time": "2024-05-19T15:51:27.350168Z",
     "start_time": "2024-05-19T15:51:27.272001Z"
    }
   },
   "execution_count": 174,
   "outputs": [
    {
     "data": {
      "text/plain": "\u001B[1mModel: \"functional_3\"\u001B[0m\n",
      "text/html": "<pre style=\"white-space:pre;overflow-x:auto;line-height:normal;font-family:Menlo,'DejaVu Sans Mono',consolas,'Courier New',monospace\"><span style=\"font-weight: bold\">Model: \"functional_3\"</span>\n</pre>\n"
     },
     "metadata": {},
     "output_type": "display_data"
    },
    {
     "data": {
      "text/plain": "┏━━━━━━━━━━━━━━━━━━━━━━━━━━━━━━━━━┳━━━━━━━━━━━━━━━━━━━━━━━━┳━━━━━━━━━━━━━━━┓\n┃\u001B[1m \u001B[0m\u001B[1mLayer (type)                   \u001B[0m\u001B[1m \u001B[0m┃\u001B[1m \u001B[0m\u001B[1mOutput Shape          \u001B[0m\u001B[1m \u001B[0m┃\u001B[1m \u001B[0m\u001B[1m      Param #\u001B[0m\u001B[1m \u001B[0m┃\n┡━━━━━━━━━━━━━━━━━━━━━━━━━━━━━━━━━╇━━━━━━━━━━━━━━━━━━━━━━━━╇━━━━━━━━━━━━━━━┩\n│ input_layer_1 (\u001B[38;5;33mInputLayer\u001B[0m)      │ (\u001B[38;5;45mNone\u001B[0m, \u001B[38;5;34m89\u001B[0m)             │             \u001B[38;5;34m0\u001B[0m │\n├─────────────────────────────────┼────────────────────────┼───────────────┤\n│ dense_2 (\u001B[38;5;33mDense\u001B[0m)                 │ (\u001B[38;5;45mNone\u001B[0m, \u001B[38;5;34m50\u001B[0m)             │         \u001B[38;5;34m4,500\u001B[0m │\n├─────────────────────────────────┼────────────────────────┼───────────────┤\n│ dense_3 (\u001B[38;5;33mDense\u001B[0m)                 │ (\u001B[38;5;45mNone\u001B[0m, \u001B[38;5;34m89\u001B[0m)             │         \u001B[38;5;34m4,539\u001B[0m │\n└─────────────────────────────────┴────────────────────────┴───────────────┘\n",
      "text/html": "<pre style=\"white-space:pre;overflow-x:auto;line-height:normal;font-family:Menlo,'DejaVu Sans Mono',consolas,'Courier New',monospace\">┏━━━━━━━━━━━━━━━━━━━━━━━━━━━━━━━━━┳━━━━━━━━━━━━━━━━━━━━━━━━┳━━━━━━━━━━━━━━━┓\n┃<span style=\"font-weight: bold\"> Layer (type)                    </span>┃<span style=\"font-weight: bold\"> Output Shape           </span>┃<span style=\"font-weight: bold\">       Param # </span>┃\n┡━━━━━━━━━━━━━━━━━━━━━━━━━━━━━━━━━╇━━━━━━━━━━━━━━━━━━━━━━━━╇━━━━━━━━━━━━━━━┩\n│ input_layer_1 (<span style=\"color: #0087ff; text-decoration-color: #0087ff\">InputLayer</span>)      │ (<span style=\"color: #00d7ff; text-decoration-color: #00d7ff\">None</span>, <span style=\"color: #00af00; text-decoration-color: #00af00\">89</span>)             │             <span style=\"color: #00af00; text-decoration-color: #00af00\">0</span> │\n├─────────────────────────────────┼────────────────────────┼───────────────┤\n│ dense_2 (<span style=\"color: #0087ff; text-decoration-color: #0087ff\">Dense</span>)                 │ (<span style=\"color: #00d7ff; text-decoration-color: #00d7ff\">None</span>, <span style=\"color: #00af00; text-decoration-color: #00af00\">50</span>)             │         <span style=\"color: #00af00; text-decoration-color: #00af00\">4,500</span> │\n├─────────────────────────────────┼────────────────────────┼───────────────┤\n│ dense_3 (<span style=\"color: #0087ff; text-decoration-color: #0087ff\">Dense</span>)                 │ (<span style=\"color: #00d7ff; text-decoration-color: #00d7ff\">None</span>, <span style=\"color: #00af00; text-decoration-color: #00af00\">89</span>)             │         <span style=\"color: #00af00; text-decoration-color: #00af00\">4,539</span> │\n└─────────────────────────────────┴────────────────────────┴───────────────┘\n</pre>\n"
     },
     "metadata": {},
     "output_type": "display_data"
    },
    {
     "data": {
      "text/plain": "\u001B[1m Total params: \u001B[0m\u001B[38;5;34m9,039\u001B[0m (35.31 KB)\n",
      "text/html": "<pre style=\"white-space:pre;overflow-x:auto;line-height:normal;font-family:Menlo,'DejaVu Sans Mono',consolas,'Courier New',monospace\"><span style=\"font-weight: bold\"> Total params: </span><span style=\"color: #00af00; text-decoration-color: #00af00\">9,039</span> (35.31 KB)\n</pre>\n"
     },
     "metadata": {},
     "output_type": "display_data"
    },
    {
     "data": {
      "text/plain": "\u001B[1m Trainable params: \u001B[0m\u001B[38;5;34m9,039\u001B[0m (35.31 KB)\n",
      "text/html": "<pre style=\"white-space:pre;overflow-x:auto;line-height:normal;font-family:Menlo,'DejaVu Sans Mono',consolas,'Courier New',monospace\"><span style=\"font-weight: bold\"> Trainable params: </span><span style=\"color: #00af00; text-decoration-color: #00af00\">9,039</span> (35.31 KB)\n</pre>\n"
     },
     "metadata": {},
     "output_type": "display_data"
    },
    {
     "data": {
      "text/plain": "\u001B[1m Non-trainable params: \u001B[0m\u001B[38;5;34m0\u001B[0m (0.00 B)\n",
      "text/html": "<pre style=\"white-space:pre;overflow-x:auto;line-height:normal;font-family:Menlo,'DejaVu Sans Mono',consolas,'Courier New',monospace\"><span style=\"font-weight: bold\"> Non-trainable params: </span><span style=\"color: #00af00; text-decoration-color: #00af00\">0</span> (0.00 B)\n</pre>\n"
     },
     "metadata": {},
     "output_type": "display_data"
    }
   ]
  },
  {
   "cell_type": "markdown",
   "source": [
    "---\n",
    "<font color=green>Q28: (3 Marks) </font>\n",
    "<br><font color='green'>\n",
    "Train your model using the Adam optimizer for 20 epochs with a batch size equal to 8 and validation split to 20%. Specify the loss function you've chosen.\n",
    "</font>\n"
   ],
   "metadata": {
    "id": "2lNBOw3ait03"
   }
  },
  {
   "cell_type": "code",
   "source": [
    "# Train the autoencoder\n",
    "autoencoder.fit(Z_hat_train, Z_hat_train, epochs=20, batch_size=8, validation_split = 0.2)\n",
    "\n",
    "print('Loss function used is MSE')"
   ],
   "metadata": {
    "id": "IBUtUlxIxsrx",
    "ExecuteTime": {
     "end_time": "2024-05-19T15:52:32.320439Z",
     "start_time": "2024-05-19T15:52:25.712579Z"
    }
   },
   "execution_count": 175,
   "outputs": [
    {
     "name": "stdout",
     "output_type": "stream",
     "text": [
      "Epoch 1/20\n",
      "\u001B[1m22/22\u001B[0m \u001B[32m━━━━━━━━━━━━━━━━━━━━\u001B[0m\u001B[37m\u001B[0m \u001B[1m3s\u001B[0m 22ms/step - loss: 0.9437 - val_loss: 0.7857\n",
      "Epoch 2/20\n",
      "\u001B[1m22/22\u001B[0m \u001B[32m━━━━━━━━━━━━━━━━━━━━\u001B[0m\u001B[37m\u001B[0m \u001B[1m0s\u001B[0m 6ms/step - loss: 0.7519 - val_loss: 0.6718\n",
      "Epoch 3/20\n",
      "\u001B[1m22/22\u001B[0m \u001B[32m━━━━━━━━━━━━━━━━━━━━\u001B[0m\u001B[37m\u001B[0m \u001B[1m0s\u001B[0m 6ms/step - loss: 0.6360 - val_loss: 0.6210\n",
      "Epoch 4/20\n",
      "\u001B[1m22/22\u001B[0m \u001B[32m━━━━━━━━━━━━━━━━━━━━\u001B[0m\u001B[37m\u001B[0m \u001B[1m0s\u001B[0m 6ms/step - loss: 0.5883 - val_loss: 0.5927\n",
      "Epoch 5/20\n",
      "\u001B[1m22/22\u001B[0m \u001B[32m━━━━━━━━━━━━━━━━━━━━\u001B[0m\u001B[37m\u001B[0m \u001B[1m0s\u001B[0m 6ms/step - loss: 0.5314 - val_loss: 0.5706\n",
      "Epoch 6/20\n",
      "\u001B[1m22/22\u001B[0m \u001B[32m━━━━━━━━━━━━━━━━━━━━\u001B[0m\u001B[37m\u001B[0m \u001B[1m0s\u001B[0m 6ms/step - loss: 0.5013 - val_loss: 0.5519\n",
      "Epoch 7/20\n",
      "\u001B[1m22/22\u001B[0m \u001B[32m━━━━━━━━━━━━━━━━━━━━\u001B[0m\u001B[37m\u001B[0m \u001B[1m0s\u001B[0m 6ms/step - loss: 0.4762 - val_loss: 0.5365\n",
      "Epoch 8/20\n",
      "\u001B[1m22/22\u001B[0m \u001B[32m━━━━━━━━━━━━━━━━━━━━\u001B[0m\u001B[37m\u001B[0m \u001B[1m0s\u001B[0m 6ms/step - loss: 0.4720 - val_loss: 0.5217\n",
      "Epoch 9/20\n",
      "\u001B[1m22/22\u001B[0m \u001B[32m━━━━━━━━━━━━━━━━━━━━\u001B[0m\u001B[37m\u001B[0m \u001B[1m0s\u001B[0m 6ms/step - loss: 0.4706 - val_loss: 0.5090\n",
      "Epoch 10/20\n",
      "\u001B[1m22/22\u001B[0m \u001B[32m━━━━━━━━━━━━━━━━━━━━\u001B[0m\u001B[37m\u001B[0m \u001B[1m0s\u001B[0m 6ms/step - loss: 0.4404 - val_loss: 0.4973\n",
      "Epoch 11/20\n",
      "\u001B[1m22/22\u001B[0m \u001B[32m━━━━━━━━━━━━━━━━━━━━\u001B[0m\u001B[37m\u001B[0m \u001B[1m0s\u001B[0m 6ms/step - loss: 0.4099 - val_loss: 0.4868\n",
      "Epoch 12/20\n",
      "\u001B[1m22/22\u001B[0m \u001B[32m━━━━━━━━━━━━━━━━━━━━\u001B[0m\u001B[37m\u001B[0m \u001B[1m0s\u001B[0m 6ms/step - loss: 0.4107 - val_loss: 0.4768\n",
      "Epoch 13/20\n",
      "\u001B[1m22/22\u001B[0m \u001B[32m━━━━━━━━━━━━━━━━━━━━\u001B[0m\u001B[37m\u001B[0m \u001B[1m0s\u001B[0m 6ms/step - loss: 0.3892 - val_loss: 0.4683\n",
      "Epoch 14/20\n",
      "\u001B[1m22/22\u001B[0m \u001B[32m━━━━━━━━━━━━━━━━━━━━\u001B[0m\u001B[37m\u001B[0m \u001B[1m0s\u001B[0m 6ms/step - loss: 0.3739 - val_loss: 0.4599\n",
      "Epoch 15/20\n",
      "\u001B[1m22/22\u001B[0m \u001B[32m━━━━━━━━━━━━━━━━━━━━\u001B[0m\u001B[37m\u001B[0m \u001B[1m0s\u001B[0m 6ms/step - loss: 0.3583 - val_loss: 0.4527\n",
      "Epoch 16/20\n",
      "\u001B[1m22/22\u001B[0m \u001B[32m━━━━━━━━━━━━━━━━━━━━\u001B[0m\u001B[37m\u001B[0m \u001B[1m0s\u001B[0m 6ms/step - loss: 0.3520 - val_loss: 0.4459\n",
      "Epoch 17/20\n",
      "\u001B[1m22/22\u001B[0m \u001B[32m━━━━━━━━━━━━━━━━━━━━\u001B[0m\u001B[37m\u001B[0m \u001B[1m0s\u001B[0m 6ms/step - loss: 0.3426 - val_loss: 0.4394\n",
      "Epoch 18/20\n",
      "\u001B[1m22/22\u001B[0m \u001B[32m━━━━━━━━━━━━━━━━━━━━\u001B[0m\u001B[37m\u001B[0m \u001B[1m0s\u001B[0m 6ms/step - loss: 0.3388 - val_loss: 0.4335\n",
      "Epoch 19/20\n",
      "\u001B[1m22/22\u001B[0m \u001B[32m━━━━━━━━━━━━━━━━━━━━\u001B[0m\u001B[37m\u001B[0m \u001B[1m0s\u001B[0m 6ms/step - loss: 0.3415 - val_loss: 0.4281\n",
      "Epoch 20/20\n",
      "\u001B[1m22/22\u001B[0m \u001B[32m━━━━━━━━━━━━━━━━━━━━\u001B[0m\u001B[37m\u001B[0m \u001B[1m0s\u001B[0m 6ms/step - loss: 0.3393 - val_loss: 0.4228\n",
      "Loss function used is MSE\n"
     ]
    }
   ]
  },
  {
   "cell_type": "markdown",
   "source": [
    "---\n",
    "<font color=green>Q29: (3 Marks) </font>\n",
    "<br><font color='green'>\n",
    "Predict using the testing set and extract the residuals based on the methodology described in **[End-to-End Policy Learning of a Statistical Arbitrage Autoencoder Architecture](https://arxiv.org/pdf/2402.08233.pdf)**.\n",
    "for 'NVDA' stock.\n",
    "</font>\n",
    "\n",
    "---"
   ],
   "metadata": {
    "id": "8xI8O24djAYO"
   }
  },
  {
   "cell_type": "code",
   "source": [
    "\n",
    "predicted_test = autoencoder.predict(Z_hat_test)\n",
    "\n",
    "residuals = predicted_test - Z_hat_test\n",
    "residual_NVDA = residuals['NVDA'].sort_index()\n",
    "print(residual_NVDA)"
   ],
   "metadata": {
    "id": "S-EDTK7wxtxB",
    "ExecuteTime": {
     "end_time": "2024-05-19T16:06:46.466818Z",
     "start_time": "2024-05-19T16:06:46.357669Z"
    }
   },
   "execution_count": 182,
   "outputs": [
    {
     "name": "stdout",
     "output_type": "stream",
     "text": [
      "\u001B[1m3/3\u001B[0m \u001B[32m━━━━━━━━━━━━━━━━━━━━\u001B[0m\u001B[37m\u001B[0m \u001B[1m0s\u001B[0m 2ms/step \n",
      "Date\n",
      "2023-04-06    0.014891\n",
      "2023-04-12    0.327349\n",
      "2023-04-13    0.897756\n",
      "2023-04-20    1.557427\n",
      "2023-04-21    0.481058\n",
      "                ...   \n",
      "2024-03-06   -0.495264\n",
      "2024-03-11   -0.108788\n",
      "2024-03-15   -0.064264\n",
      "2024-03-22   -1.182021\n",
      "2024-03-26    0.553240\n",
      "Name: NVDA, Length: 76, dtype: float64\n"
     ]
    }
   ]
  },
  {
   "cell_type": "markdown",
   "source": [
    "<font color=green>Q30: (7 Marks) </font>\n",
    "<br><font color='green'>\n",
    "By reading carrefully the paper **[End-to-End Policy Learning of a Statistical Arbitrage Autoencoder Architecture](https://arxiv.org/pdf/2402.08233.pdf)**, answers the following question:\n",
    "1. **Summarize the Key Actions**: Highlight the main experiments and methodologies employed by the authors in Section 5.\n",
    "2. **Reproduction Steps**: Detail the necessary steps required to replicate the authors' approach based on the descriptions provided in the paper.\n",
    "3. **Proposed Improvement**: Suggest one potential enhancement to the methodology that could potentially increase the effectiveness or efficiency of the model.\n",
    "\n"
   ],
   "metadata": {
    "id": "mYyVOZu90CIK"
   }
  },
  {
   "cell_type": "markdown",
   "source": [
    "**Write your answers here:**\n",
    "\n",
    "\n",
    "\n",
    "\n",
    "\n",
    "\n",
    "\n",
    "\n"
   ],
   "metadata": {
    "id": "na95zQB40hRG"
   }
  }
 ],
 "metadata": {
  "colab": {
   "provenance": [],
   "include_colab_link": true
  },
  "kernelspec": {
   "name": "python3",
   "language": "python",
   "display_name": "Python 3 (ipykernel)"
  },
  "language_info": {
   "name": "python"
  }
 },
 "nbformat": 4,
 "nbformat_minor": 0
}
