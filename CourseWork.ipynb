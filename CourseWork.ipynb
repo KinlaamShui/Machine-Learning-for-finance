{
 "cells": [
  {
   "cell_type": "markdown",
   "metadata": {
    "id": "view-in-github",
    "colab_type": "text"
   },
   "source": [
    "<a href=\"https://colab.research.google.com/github/Jandsy/ml_finance_imperial/blob/main/Coursework/CourseWork.ipynb\" target=\"_parent\"><img src=\"https://colab.research.google.com/assets/colab-badge.svg\" alt=\"Open In Colab\"/></a>"
   ]
  },
  {
   "cell_type": "markdown",
   "metadata": {
    "id": "zSIsUTeyXNr_"
   },
   "source": [
    "# **<center>Machine Learning and Finance </center>**\n",
    "\n",
    "\n",
    "## <center> CourseWork 2024 - StatArb </center>\n"
   ]
  },
  {
   "cell_type": "markdown",
   "source": [
    "\n",
    "In this coursework, you will delve into and replicate selected elements of the research detailed in the paper **[End-to-End Policy Learning of a Statistical Arbitrage Autoencoder Architecture](https://arxiv.org/pdf/2402.08233.pdf)**. **However, we will not reproduce the entire study.**\n",
    "\n",
    "## Overview\n",
    "\n",
    "This study redefines Statistical Arbitrage (StatArb) by combining Autoencoder architectures and policy learning to generate trading strategies. Traditionally, StatArb involves finding the mean of a synthetic asset through classical or PCA-based methods before developing a mean reversion strategy. However, this paper proposes a data-driven approach using an Autoencoder trained on US stock returns, integrated into a neural network representing portfolio trading policies to output portfolio allocations directly.\n",
    "\n",
    "\n",
    "## Coursework Goal\n",
    "\n",
    "This coursework will replicate these results, providing hands-on experience in implementing and evaluating this innovative end-to-end policy learning Autoencoder within financial trading strategies.\n",
    "\n",
    "## Outline\n",
    "\n",
    "- [Data Preparation and Exploration](#Data-Preparation-and-Exploration)\n",
    "- [Fama French Analysis](#Fama-French-Analysis)\n",
    "- [PCA Analysis](#PCA-Analysis)\n",
    "- [Ornstein Uhlenbeck](#Ornstein-Uhlenbeck)\n",
    "- [Autoencoder Analysis](#Autoencoder-Analysis)\n",
    "\n",
    "\n",
    "\n",
    "**Description:**\n",
    "The Coursework is graded on a 100 point scale and is divided into five  parts. Below is the mark distribution for each question:\n",
    "\n",
    "| **Problem**  | **Question**          | **Number of Marks** |\n",
    "|--------------|-----------------------|---------------------|\n",
    "| **Part A**   | Question 1            | 4                   |\n",
    "|              | Question 2            | 1                   |\n",
    "|              | Question 3            | 3                   |\n",
    "|              | Question 4            | 3                   |\n",
    "|              | Question 5            | 1                   |\n",
    "|              | Question 6            | 3                   |\n",
    "|**Part  B**    | Question 7           | 1                   |\n",
    "|              | Question 8            | 5                   |\n",
    "|              | Question 9            | 4                   |\n",
    "|              | Question 10           | 5                   |\n",
    "|              | Question 11           | 2                   |\n",
    "|              | Question 12           | 3                   |\n",
    "|**Part  C**    | Question 13          | 3                   |\n",
    "|              | Question 14           | 1                   |\n",
    "|              | Question 15           | 3                   |\n",
    "|              | Question 16           | 2                   |\n",
    "|              | Question 17           | 7                   |\n",
    "|              | Question 18           | 6                   |\n",
    "|              | Question 19           | 3                   |\n",
    "|  **Part  D** | Question 20           | 3                   |\n",
    "|              | Question 21           | 5                   |\n",
    "|              | Question 22           | 2                   |\n",
    "|  **Part  E** | Question 23           | 2                   |\n",
    "|              | Question 24           | 1                   |\n",
    "|              | Question 25           | 3                   |\n",
    "|              | Question 26           | 10                  |\n",
    "|              | Question 27           | 1                   |\n",
    "|              | Question 28           | 3                   |\n",
    "|              | Question 29           | 3                   |\n",
    "|              | Question 30           | 7                   |\n",
    "\n",
    "\n",
    "\n",
    "\n",
    "Please read the questions carefully and do your best. Good luck!\n",
    "\n",
    "## Objectives\n",
    "\n",
    "\n",
    "\n",
    "## 1. Data Preparation and Exploration\n",
    "Collect, clean, and prepare US stock return data for analysis.\n",
    "\n",
    "## 2. Fama French Analysis\n",
    "Utilize Fama French Factors to isolate the idiosyncratic components of stock returns, differentiating them from market-wide effects. This analysis helps in understanding the unique characteristics of individual stocks relative to broader market trends.\n",
    "\n",
    "## 3. PCA Analysis\n",
    "Employ Principal Component Analysis (PCA) to identify hidden structures and reduce dimensionality in the data. This method helps in extracting significant patterns that might be obscured in high-dimensional datasets.\n",
    "\n",
    "## 4. Ornstein-Uhlenbeck Process\n",
    "Analyze mean-reverting behavior in stock prices using the Ornstein-Uhlenbeck process. This stochastic process is useful for modeling and forecasting based on the assumption that prices will revert to a long-term mean.\n",
    "\n",
    "## 5. Building a Basic Autoencoder Model\n",
    "Construct and train a standard Autoencoder to extract residual idiosyncratic risk.\n",
    "\n",
    "\n",
    "\n",
    "\n",
    "\n",
    "\n"
   ],
   "metadata": {
    "id": "kBDj0uD44dQL"
   }
  },
  {
   "cell_type": "markdown",
   "metadata": {
    "id": "pFU9ckGplGDf"
   },
   "source": [
    "# Data Preparation and Exploration"
   ]
  },
  {
   "cell_type": "markdown",
   "metadata": {
    "id": "yiqyU4DQlxsV"
   },
   "source": [
    "\n",
    "---\n",
    "<font color=green>Q1: (4 Marks)</font>\n",
    "<br><font color='green'>\n",
    "Write a Python function that accepts a URL parameter and retrieves the NASDAQ-100 companies and their ticker symbols by scraping the relevant Wikipedia page using **[Requests](https://pypi.org/project/requests/)** and **[BeautifulSoup](https://www.crummy.com/software/BeautifulSoup/bs4/doc/)**. Your function should return the data as a list of tuples, with each tuple containing the company name and its ticker symbol. Then, call your function with the appropriate Wikipedia page URL and print the data in a 'Company: Ticker' format.\n",
    "\n",
    "</font>\n",
    "\n",
    "---\n"
   ]
  },
  {
   "cell_type": "code",
   "source": [
    "import requests\n",
    "from bs4 import BeautifulSoup\n",
    "\n",
    "def get_nasdaq_100_companies(url):\n",
    "    # Fetch the webpage\n",
    "    response = requests.get(url)\n",
    "    # Raise an exception if the request was unsuccessful\n",
    "    response.raise_for_status()\n",
    "    \n",
    "    # Parse the content with BeautifulSoup\n",
    "    soup = BeautifulSoup(response.text, 'html.parser')\n",
    "    \n",
    "    # Find the table with NASDAQ-100 Index companies; it's usually marked with a specific class or id\n",
    "    # Adjust the selector as needed if the table structure changes\n",
    "    table = soup.find('table', {'class': 'wikitable sortable'})\n",
    "\n",
    "    # Extract rows from the table\n",
    "    rows = table.find_all('tr')\n",
    "    \n",
    "    # Initialize a list to store the company names and tickers\n",
    "    companies = []\n",
    "\n",
    "    # Skip the header row and iterate through each row to extract company data\n",
    "    for row in rows[1:]:  # Skip the header row\n",
    "        cols = row.find_all('td')\n",
    "        if len(cols) > 1:\n",
    "            # The company name is usually in the first column, ticker in the second\n",
    "            company_name = cols[0].text.strip()\n",
    "            ticker_symbol = cols[1].text.strip()\n",
    "            companies.append((company_name, ticker_symbol))\n",
    "    \n",
    "    return companies\n",
    "\n",
    "# URL of the Wikipedia page containing the NASDAQ-100 companies\n",
    "url = 'https://en.wikipedia.org/wiki/NASDAQ-100'\n",
    "\n",
    "# Call the function and print the data\n",
    "nasdaq_companies = get_nasdaq_100_companies(url)\n",
    "\n",
    "for company, ticker in nasdaq_companies:\n",
    "    print(f'{company}: {ticker}')\n"
   ],
   "metadata": {
    "id": "lcJXF6aSxCGu",
    "ExecuteTime": {
     "end_time": "2024-05-18T12:15:52.117882Z",
     "start_time": "2024-05-18T12:15:51.844512Z"
    }
   },
   "execution_count": 7,
   "outputs": [
    {
     "name": "stdout",
     "output_type": "stream",
     "text": [
      "Adobe Inc.: ADBE\n",
      "ADP: ADP\n",
      "Airbnb: ABNB\n",
      "Alphabet Inc. (Class A): GOOGL\n",
      "Alphabet Inc. (Class C): GOOG\n",
      "Amazon: AMZN\n",
      "Advanced Micro Devices Inc.: AMD\n",
      "American Electric Power: AEP\n",
      "Amgen: AMGN\n",
      "Analog Devices: ADI\n",
      "Ansys: ANSS\n",
      "Apple Inc.: AAPL\n",
      "Applied Materials: AMAT\n",
      "ASML Holding: ASML\n",
      "AstraZeneca: AZN\n",
      "Atlassian: TEAM\n",
      "Autodesk: ADSK\n",
      "Baker Hughes: BKR\n",
      "Biogen: BIIB\n",
      "Booking Holdings: BKNG\n",
      "Broadcom Inc.: AVGO\n",
      "Cadence Design Systems: CDNS\n",
      "CDW Corporation: CDW\n",
      "Charter Communications: CHTR\n",
      "Cintas: CTAS\n",
      "Cisco: CSCO\n",
      "Coca-Cola Europacific Partners: CCEP\n",
      "Cognizant: CTSH\n",
      "Comcast: CMCSA\n",
      "Constellation Energy: CEG\n",
      "Copart: CPRT\n",
      "CoStar Group: CSGP\n",
      "Costco: COST\n",
      "CrowdStrike: CRWD\n",
      "CSX Corporation: CSX\n",
      "Datadog: DDOG\n",
      "DexCom: DXCM\n",
      "Diamondback Energy: FANG\n",
      "Dollar Tree: DLTR\n",
      "DoorDash: DASH\n",
      "Electronic Arts: EA\n",
      "Exelon: EXC\n",
      "Fastenal: FAST\n",
      "Fortinet: FTNT\n",
      "GE HealthCare: GEHC\n",
      "Gilead Sciences: GILD\n",
      "GlobalFoundries: GFS\n",
      "Honeywell: HON\n",
      "Idexx Laboratories: IDXX\n",
      "Illumina, Inc.: ILMN\n",
      "Intel: INTC\n",
      "Intuit: INTU\n",
      "Intuitive Surgical: ISRG\n",
      "Keurig Dr Pepper: KDP\n",
      "KLA Corporation: KLAC\n",
      "Kraft Heinz: KHC\n",
      "Lam Research: LRCX\n",
      "Linde plc: LIN\n",
      "Lululemon: LULU\n",
      "Marriott International: MAR\n",
      "Marvell Technology: MRVL\n",
      "MercadoLibre: MELI\n",
      "Meta Platforms: META\n",
      "Microchip Technology: MCHP\n",
      "Micron Technology: MU\n",
      "Microsoft: MSFT\n",
      "Moderna: MRNA\n",
      "Mondelēz International: MDLZ\n",
      "MongoDB Inc.: MDB\n",
      "Monster Beverage: MNST\n",
      "Netflix: NFLX\n",
      "Nvidia: NVDA\n",
      "NXP: NXPI\n",
      "O'Reilly Automotive: ORLY\n",
      "Old Dominion Freight Line: ODFL\n",
      "Onsemi: ON\n",
      "Paccar: PCAR\n",
      "Palo Alto Networks: PANW\n",
      "Paychex: PAYX\n",
      "PayPal: PYPL\n",
      "PDD Holdings: PDD\n",
      "PepsiCo: PEP\n",
      "Qualcomm: QCOM\n",
      "Regeneron: REGN\n",
      "Roper Technologies: ROP\n",
      "Ross Stores: ROST\n",
      "Sirius XM: SIRI\n",
      "Starbucks: SBUX\n",
      "Synopsys: SNPS\n",
      "Take-Two Interactive: TTWO\n",
      "T-Mobile US: TMUS\n",
      "Tesla, Inc.: TSLA\n",
      "Texas Instruments: TXN\n",
      "The Trade Desk: TTD\n",
      "Verisk: VRSK\n",
      "Vertex Pharmaceuticals: VRTX\n",
      "Walgreens Boots Alliance: WBA\n",
      "Warner Bros. Discovery: WBD\n",
      "Workday, Inc.: WDAY\n",
      "Xcel Energy: XEL\n",
      "Zscaler: ZS\n"
     ]
    }
   ]
  },
  {
   "cell_type": "markdown",
   "source": [
    "---\n",
    "<font color=green>Q2: (1 Mark)</font>\n",
    "<br><font color='green'>\n",
    "Given a list of tuples representing NASDAQ-100 companies (where each tuple contains a company name and its ticker symbol), write a Python script to extract all ticker symbols into a separate list called `tickers_list`.\n",
    "</font>\n",
    "---\n"
   ],
   "metadata": {
    "id": "9VvyNAF9sE7u"
   }
  },
  {
   "cell_type": "code",
   "source": [
    "# Use list comprehension to extract just the ticker symbols into a new list called 'tickers_list'\n",
    "tickers_list = [ticker for company, ticker in nasdaq_companies]\n",
    "\n",
    "# Output the list of tickers\n",
    "print(\"Tickers List:\", tickers_list)"
   ],
   "metadata": {
    "id": "yQaWckkXxDLP",
    "ExecuteTime": {
     "end_time": "2024-05-18T12:15:58.486374Z",
     "start_time": "2024-05-18T12:15:58.462821Z"
    }
   },
   "execution_count": 8,
   "outputs": [
    {
     "name": "stdout",
     "output_type": "stream",
     "text": [
      "Tickers List: ['ADBE', 'ADP', 'ABNB', 'GOOGL', 'GOOG', 'AMZN', 'AMD', 'AEP', 'AMGN', 'ADI', 'ANSS', 'AAPL', 'AMAT', 'ASML', 'AZN', 'TEAM', 'ADSK', 'BKR', 'BIIB', 'BKNG', 'AVGO', 'CDNS', 'CDW', 'CHTR', 'CTAS', 'CSCO', 'CCEP', 'CTSH', 'CMCSA', 'CEG', 'CPRT', 'CSGP', 'COST', 'CRWD', 'CSX', 'DDOG', 'DXCM', 'FANG', 'DLTR', 'DASH', 'EA', 'EXC', 'FAST', 'FTNT', 'GEHC', 'GILD', 'GFS', 'HON', 'IDXX', 'ILMN', 'INTC', 'INTU', 'ISRG', 'KDP', 'KLAC', 'KHC', 'LRCX', 'LIN', 'LULU', 'MAR', 'MRVL', 'MELI', 'META', 'MCHP', 'MU', 'MSFT', 'MRNA', 'MDLZ', 'MDB', 'MNST', 'NFLX', 'NVDA', 'NXPI', 'ORLY', 'ODFL', 'ON', 'PCAR', 'PANW', 'PAYX', 'PYPL', 'PDD', 'PEP', 'QCOM', 'REGN', 'ROP', 'ROST', 'SIRI', 'SBUX', 'SNPS', 'TTWO', 'TMUS', 'TSLA', 'TXN', 'TTD', 'VRSK', 'VRTX', 'WBA', 'WBD', 'WDAY', 'XEL', 'ZS']\n"
     ]
    }
   ]
  },
  {
   "cell_type": "markdown",
   "source": [
    "---\n",
    "<font color=green>Q3: (3 Marks)</font>\n",
    "<br><font color='green'>\n",
    "Using **[yfinance](https://pypi.org/project/yfinance/)** library, write a Python script that accepts a list of stock ticker symbols. For each symbol, download the adjusted closing price data, store it in a dictionary with the ticker symbol as the key, and then convert the final dictionary into a Pandas DataFrame. Handle any errors encountered during data retrieval by printing a message indicating which symbol failed\n",
    "</font>\n",
    "---"
   ],
   "metadata": {
    "id": "2KEkAPUxsW4s"
   }
  },
  {
   "cell_type": "code",
   "source": [
    "import yfinance as yf\n",
    "import pandas as pd\n",
    "\n",
    "def download_stock_data_dataframe(tickers):\n",
    "    # Dictionary to hold our data\n",
    "    stock_data = {}\n",
    "    \n",
    "    # Iterate over each ticker symbol in the list\n",
    "    for ticker in tickers:\n",
    "        try:\n",
    "            # Fetch data for the ticker\n",
    "            data = yf.download(ticker, start=\"2020-01-01\", end=\"2023-01-01\", progress=False)\n",
    "            # Extract the Adjusted Close column\n",
    "            stock_data[ticker] = data['Adj Close']\n",
    "        except Exception as e:\n",
    "            # Handle errors in downloading or processing data\n",
    "            print(f\"Failed to fetch data for {ticker}. Error: {str(e)}\")\n",
    "    \n",
    "    # Convert the dictionary to a Pandas DataFrame\n",
    "    stock_dataframe = pd.DataFrame(stock_data)\n",
    "    \n",
    "    return stock_dataframe\n",
    "\n",
    "stock_dataframe = download_stock_data_dataframe(tickers_list)\n",
    "print(stock_dataframe.head(10))"
   ],
   "metadata": {
    "id": "pynohwbpxEg5",
    "ExecuteTime": {
     "end_time": "2024-05-18T13:13:04.637835Z",
     "start_time": "2024-05-18T13:12:54.359590Z"
    }
   },
   "execution_count": 20,
   "outputs": [
    {
     "name": "stdout",
     "output_type": "stream",
     "text": [
      "                  ADBE         ADP  ABNB      GOOGL       GOOG       AMZN  \\\n",
      "Date                                                                        \n",
      "2020-01-02  334.429993  155.670273   NaN  68.433998  68.368500  94.900497   \n",
      "2020-01-03  331.809998  155.341263   NaN  68.075996  68.032997  93.748497   \n",
      "2020-01-06  333.709991  155.551453   NaN  69.890503  69.710503  95.143997   \n",
      "2020-01-07  333.390015  153.668625   NaN  69.755501  69.667000  95.343002   \n",
      "2020-01-08  337.869995  155.112747   NaN  70.251999  70.216003  94.598503   \n",
      "2020-01-09  340.450012  156.483734   NaN  70.989502  70.991501  95.052498   \n",
      "2020-01-10  339.809998  156.374054   NaN  71.447998  71.486504  94.157997   \n",
      "2020-01-13  345.630005  157.534821   NaN  72.001503  71.961502  94.565002   \n",
      "2020-01-14  344.630005  156.501999   NaN  71.529503  71.543999  93.472000   \n",
      "2020-01-15  342.940002  157.946106   NaN  71.959999  71.959999  93.100998   \n",
      "\n",
      "                  AMD        AEP        AMGN         ADI  ...       TSLA  \\\n",
      "Date                                                      ...              \n",
      "2020-01-02  49.099998  79.457825  209.199478  111.252640  ...  28.684000   \n",
      "2020-01-03  48.599998  79.372818  207.779251  109.294197  ...  29.534000   \n",
      "2020-01-06  48.389999  79.636375  209.373718  108.010117  ...  30.102667   \n",
      "2020-01-07  48.250000  79.653389  207.404556  110.467422  ...  31.270666   \n",
      "2020-01-08  47.830002  79.415321  207.561417  111.465118  ...  32.809334   \n",
      "2020-01-09  48.970001  79.814911  208.180023  111.465118  ...  32.089333   \n",
      "2020-01-10  48.169998  80.206001  207.596252  109.534386  ...  31.876667   \n",
      "2020-01-13  48.750000  80.452545  206.428741  109.987030  ...  34.990665   \n",
      "2020-01-14  48.209999  80.750114  209.112335  110.421234  ...  35.861332   \n",
      "2020-01-15  48.549999  82.127419  210.593567  108.555168  ...  34.566666   \n",
      "\n",
      "                   TXN        TTD        VRSK        VRTX        WBA  \\\n",
      "Date                                                                   \n",
      "2020-01-02  114.222328  27.145000  147.065231  219.449997  48.048973   \n",
      "2020-01-03  112.706070  27.191000  148.495789  217.979996  48.048973   \n",
      "2020-01-06  111.921486  27.791000  148.836395  224.029999  48.463745   \n",
      "2020-01-07  114.081284  28.028000  150.082062  223.789993  48.219749   \n",
      "2020-01-08  114.389809  28.520000  151.463943  231.089996  45.405781   \n",
      "2020-01-09  115.773865  28.664000  152.923676  230.259995  44.470493   \n",
      "2020-01-10  114.601379  27.775999  153.098892  228.949997  44.096390   \n",
      "2020-01-13  114.557320  28.816999  153.780106  226.490005  43.966267   \n",
      "2020-01-14  115.192024  28.416000  152.670670  229.750000  44.421703   \n",
      "2020-01-15  113.869705  28.480000  154.393204  234.149994  44.267181   \n",
      "\n",
      "                  WBD        WDAY        XEL         ZS  \n",
      "Date                                                     \n",
      "2020-01-02  32.220001  167.460007  55.022354  47.330002  \n",
      "2020-01-03  32.029999  168.440002  55.286961  47.380001  \n",
      "2020-01-06  31.959999  169.490005  55.207581  48.700001  \n",
      "2020-01-07  32.070000  172.949997  55.092907  48.400002  \n",
      "2020-01-08  32.110001  178.710007  55.039989  50.750000  \n",
      "2020-01-09  32.250000  179.479996  55.163475  54.000000  \n",
      "2020-01-10  31.850000  180.110001  55.251682  55.000000  \n",
      "2020-01-13  31.790001  181.919998  55.895569  59.619999  \n",
      "2020-01-14  31.900000  179.979996  55.983780  59.540001  \n",
      "2020-01-15  32.240002  179.179993  56.865833  59.990002  \n",
      "\n",
      "[10 rows x 101 columns]\n"
     ]
    }
   ]
  },
  {
   "cell_type": "markdown",
   "source": [
    "---\n",
    "<font color=green>Q4: (3 Marks)</font>\n",
    "<br><font color='green'>\n",
    "Write a Python script to analyze stock data stored in a dictionary `stock_data` (where each key is a stock ticker symbol, and each value is a Pandas Series of adjusted closing prices). The script should:\n",
    "1. Convert the dictionary into a DataFrame.\n",
    "2. Calculate the daily returns for each stock.\n",
    "3. Identify columns (ticker symbols) with at least 2000 non-NaN values in their daily returns.\n",
    "4. Create a new DataFrame that only includes these filtered ticker symbols.\n",
    "5. Remove any remaining rows with NaN values in this new DataFrame.\n",
    "</font>\n",
    "\n",
    "---"
   ],
   "metadata": {
    "id": "Np3XHMtatQC_"
   }
  },
  {
   "cell_type": "code",
   "source": [
    "# get stock_data without converting it to dataframe\n",
    "def download_stock_data(tickers):\n",
    "    # Dictionary to hold our data\n",
    "    stock_data = {}\n",
    "    \n",
    "    # Iterate over each ticker symbol in the list\n",
    "    for ticker in tickers:\n",
    "        try:\n",
    "            # Fetch data for the ticker\n",
    "            data = yf.download(ticker, start=\"1900-01-01\", end=\"2023-01-01\", progress=False)\n",
    "            # Extract the Adjusted Close column\n",
    "            stock_data[ticker] = data['Adj Close']\n",
    "        except Exception as e:\n",
    "            # Handle errors in downloading or processing data\n",
    "            print(f\"Failed to fetch data for {ticker}. Error: {str(e)}\")\n",
    "    \n",
    "    return stock_data\n",
    "\n",
    "def analyze_stock_data(stock_data):\n",
    "    # 1. Convert the dictionary into a DataFrame\n",
    "    df = pd.DataFrame(stock_data)\n",
    "    \n",
    "    # 2. Calculate the daily returns for each stock\n",
    "    daily_returns = df.pct_change()\n",
    "    \n",
    "    # 3. Identify columns with at least 2000 non-NaN values\n",
    "    valid_columns = daily_returns.columns[daily_returns.count() >= 2000]\n",
    "    \n",
    "    # 4. Create a new DataFrame that only includes these filtered ticker symbols\n",
    "    filtered_data = daily_returns[valid_columns]\n",
    "    \n",
    "    # 5. Remove any remaining rows with NaN values in this new DataFrame\n",
    "    final_data = filtered_data.dropna()\n",
    "\n",
    "    return final_data\n",
    "\n",
    "stock_data = download_stock_data(tickers_list)\n",
    "final_stock_analysis = analyze_stock_data(stock_data)\n",
    "print(final_stock_analysis.head(10))\n"
   ],
   "metadata": {
    "id": "2pt3y9_IxFjz",
    "ExecuteTime": {
     "end_time": "2024-05-18T13:20:32.889104Z",
     "start_time": "2024-05-18T13:20:05.365728Z"
    }
   },
   "execution_count": 26,
   "outputs": [
    {
     "name": "stdout",
     "output_type": "stream",
     "text": [
      "                ADBE       ADP     GOOGL      GOOG      AMZN       AMD  \\\n",
      "Date                                                                     \n",
      "2013-06-28 -0.008056 -0.007352  0.003762  0.003763  0.000504  0.000000   \n",
      "2013-07-01  0.014925  0.008568  0.008531  0.008531  0.015881  0.004902   \n",
      "2013-07-02 -0.004542  0.009071 -0.006273 -0.006273  0.005778 -0.031707   \n",
      "2013-07-03  0.008473  0.002283  0.004670  0.004669  0.001057  0.022670   \n",
      "2013-07-05  0.012495  0.007261  0.007964  0.007965  0.006513  0.002463   \n",
      "2013-07-08 -0.007872  0.003110  0.012983  0.012983  0.016475 -0.017199   \n",
      "2013-07-09  0.013511  0.000986  0.000166  0.000166  0.003235  0.012500   \n",
      "2013-07-10 -0.000212  0.009995  0.000828  0.000829  0.002744 -0.017284   \n",
      "2013-07-11  0.015661  0.001393  0.015729  0.015729  0.025074  0.118090   \n",
      "2013-07-12  0.008335  0.021712  0.002999  0.002999  0.026330 -0.029213   \n",
      "\n",
      "                 AEP      AMGN       ADI      ANSS  ...      TTWO      TMUS  \\\n",
      "Date                                                ...                       \n",
      "2013-06-28  0.006744 -0.003333 -0.006832 -0.012696  ...  0.027454  0.010591   \n",
      "2013-07-01 -0.006923 -0.011859  0.006879  0.007798  ...  0.026720 -0.043934   \n",
      "2013-07-02  0.000225 -0.014668 -0.001322 -0.015067  ...  0.004554 -0.014755   \n",
      "2013-07-03 -0.000450 -0.002602  0.008166  0.005513  ... -0.000648 -0.013693   \n",
      "2013-07-05 -0.004049  0.019100  0.011602  0.021107  ...  0.017498  0.017787   \n",
      "2013-07-08  0.006549  0.005530 -0.009738  0.006040  ... -0.012102 -0.005541   \n",
      "2013-07-09  0.000000  0.001528  0.010927  0.013609  ...  0.019342  0.032576   \n",
      "2013-07-10  0.019071  0.037933  0.010160  0.008819  ...  0.005693  0.013699   \n",
      "2013-07-11  0.018055  0.011758  0.027177  0.022312  ...  0.008805  0.022113   \n",
      "2013-07-12  0.006704  0.009781  0.007292  0.006509  ... -0.009975 -0.000801   \n",
      "\n",
      "                TSLA       TXN      VRSK      VRTX       WBA       WBD  \\\n",
      "Date                                                                     \n",
      "2013-06-28 -0.017300  0.000000  0.017903 -0.005836 -0.015590  0.007303   \n",
      "2013-07-01  0.091468  0.005452  0.016918  0.004622  0.003167  0.007121   \n",
      "2013-07-02  0.005462  0.002568 -0.003953 -0.011314  0.002706  0.009256   \n",
      "2013-07-03 -0.021898  0.009679  0.007276  0.013959 -0.007647  0.027003   \n",
      "2013-07-05  0.042086  0.014942  0.005254  0.022324  0.002946  0.006077   \n",
      "2013-07-08  0.012657 -0.008611  0.005226 -0.024870  0.024407  0.011095   \n",
      "2013-07-09  0.015130  0.015411 -0.000812 -0.004852  0.024707 -0.001341   \n",
      "2013-07-10 -0.009559  0.009658  0.002764  0.020628  0.030141  0.011598   \n",
      "2013-07-11  0.027317  0.015851  0.015729  0.037482  0.017764  0.019672   \n",
      "2013-07-12  0.034153  0.008609  0.009578  0.036482  0.001232  0.006865   \n",
      "\n",
      "                WDAY       XEL  \n",
      "Date                            \n",
      "2013-06-28 -0.003731 -0.012543  \n",
      "2013-07-01  0.000624 -0.009880  \n",
      "2013-07-02 -0.000936  0.002495  \n",
      "2013-07-03  0.020134  0.004622  \n",
      "2013-07-05  0.002295 -0.005662  \n",
      "2013-07-08 -0.012212  0.016370  \n",
      "2013-07-09  0.007263  0.010154  \n",
      "2013-07-10  0.002148  0.003120  \n",
      "2013-07-11 -0.004133  0.011403  \n",
      "2013-07-12  0.043966  0.001366  \n",
      "\n",
      "[10 rows x 86 columns]\n"
     ]
    },
    {
     "name": "stderr",
     "output_type": "stream",
     "text": [
      "/var/folders/0c/2vpb52352sl1jscry7gxtdnh0000gn/T/ipykernel_45636/2000357148.py:25: FutureWarning: The default fill_method='pad' in DataFrame.pct_change is deprecated and will be removed in a future version. Call ffill before calling pct_change to retain current behavior and silence this warning.\n",
      "  daily_returns = df.pct_change()\n"
     ]
    }
   ]
  },
  {
   "cell_type": "markdown",
   "metadata": {
    "id": "O3xAawJ8nPbH"
   },
   "source": [
    "---\n",
    "<font color=green>Q5: (1 Mark)</font>\n",
    "<br><font color='green'>\n",
    "Download the dataset named `df_filtered_nasdaq_100` from the GitHub repository of the course.\n",
    "</font>\n",
    "\n",
    "---"
   ]
  },
  {
   "cell_type": "code",
   "source": [
    "# import the downed data\n",
    "df= pd.read_csv('df_filtered_nasdaq_100.csv')\n",
    "print(df.shape)\n",
    "print(df.head())"
   ],
   "metadata": {
    "id": "Ko4juu_HxHnT",
    "ExecuteTime": {
     "end_time": "2024-05-18T13:40:40.024428Z",
     "start_time": "2024-05-18T13:40:39.907085Z"
    }
   },
   "execution_count": 48,
   "outputs": [
    {
     "name": "stdout",
     "output_type": "stream",
     "text": [
      "(2118, 90)\n",
      "         Date      ADBE       ADP     GOOGL      GOOG      AMZN       AMD  \\\n",
      "0  2015-12-10 -0.006699  0.006004 -0.003292 -0.002861 -0.003715  0.042553   \n",
      "1  2015-12-11  0.027653 -0.024924 -0.012657 -0.014130 -0.033473 -0.036735   \n",
      "2  2015-12-14  0.020127  0.015241  0.016151  0.012045  0.027744 -0.008475   \n",
      "3  2015-12-15  0.008149  0.010283 -0.003213 -0.005844  0.001110  0.008547   \n",
      "4  2015-12-16  0.016380  0.008541  0.021708  0.019761  0.026008  0.076271   \n",
      "\n",
      "        AEP      AMGN       ADI  ...      TTWO      TMUS      TSLA       TXN  \\\n",
      "0 -0.024356  0.011274  0.008826  ... -0.004777  0.007485  0.011358  0.002996   \n",
      "1 -0.005831 -0.028308 -0.003850  ... -0.011575 -0.009356 -0.044259 -0.012648   \n",
      "2 -0.000366  0.019078 -0.001932  ...  0.005141  0.014444  0.007188  0.000178   \n",
      "3  0.027503  0.028525 -0.004752  ...  0.023018  0.044907  0.011483  0.023657   \n",
      "4  0.017309  0.012053  0.017330  ...  0.006389  0.025419  0.060699  0.009036   \n",
      "\n",
      "       VRSK      VRTX       WBA       WBD      WDAY       XEL  \n",
      "0 -0.002616  0.010279  0.000960 -0.002109  0.005037 -0.013889  \n",
      "1 -0.015996 -0.034709 -0.020499 -0.035928 -0.057630  0.004311  \n",
      "2  0.014390 -0.016491  0.010402 -0.033613  0.000253  0.010017  \n",
      "3  0.013923  0.013656 -0.005450  0.002646 -0.000380  0.007934  \n",
      "4  0.021117  0.010658  0.031664  0.024887  0.029378  0.023897  \n",
      "\n",
      "[5 rows x 90 columns]\n"
     ]
    }
   ]
  },
  {
   "cell_type": "markdown",
   "source": [
    "---\n",
    "<font color=green>Q6: (3 Marks) </font>\n",
    "<br><font color='green'>\n",
    "Conduct an in-depth analysis of the `df_filtered_nasdaq_100` dataset from GitHub. Answer the following questions:\n",
    "- Which stock had the best performance over the entire period?\n",
    "- What is the average daily return of 'AAPL'?\n",
    "- What is the worst daily return? Provide the stock name and the date it occurred.\n",
    "</font>\n",
    "\n",
    "---"
   ],
   "metadata": {
    "id": "1WbCUDabWQoZ"
   }
  },
  {
   "cell_type": "code",
   "source": [
    "# Convert 'Date' column to datetime format\n",
    "df['Date'] = pd.to_datetime(df['Date'])\n",
    "# Correctly setting 'Date' as the index\n",
    "df_processed = df.set_index('Date')\n",
    "# calculate the cumulative returns\n",
    "cumulative_returns = (1 + df_processed).cumprod() - 1\n",
    "# pick cumulative return on the last day\n",
    "last_day_returns = cumulative_returns.iloc[-1]\n",
    "# find the largest return\n",
    "best_performer = last_day_returns.idxmax()\n",
    "best_performance = last_day_returns.max()\n",
    "print(f\"The stock had the best performance over the entire period：{best_performer}，with cumulative return：{best_performance:.2%}\")\n",
    "\n",
    "\n",
    "\n",
    "# Calculate the average daily return for 'AAPL'\n",
    "average_daily_return_aapl = df_processed['AAPL'].mean()\n",
    "# Print the result\n",
    "print(f\"The average daily return for 'AAPL' is: {average_daily_return_aapl:.2%}\")\n",
    "\n",
    "\n",
    "\n",
    "# Calculate the worst daily return in the entire DataFrame\n",
    "worst_daily_return = df_processed.min().min()  # Find the minimum value across all columns\n",
    "# Find the stock with the worst daily return\n",
    "worst_stock = df_processed.min().idxmin()  # Find the column (stock) that contains the minimum value\n",
    "# Find the date when the worst daily return occurred\n",
    "worst_date = df_processed.idxmin().loc[worst_stock]  # Find the index (date) for the minimum value in the identified column\n",
    "# Print the results\n",
    "print(f\"The worst daily return was {worst_daily_return:.2%} for stock {worst_stock} on {worst_date}.\")"
   ],
   "metadata": {
    "id": "kPfiDWWlxI0Z",
    "ExecuteTime": {
     "end_time": "2024-05-18T13:59:14.764207Z",
     "start_time": "2024-05-18T13:59:14.687234Z"
    }
   },
   "execution_count": 64,
   "outputs": [
    {
     "name": "stdout",
     "output_type": "stream",
     "text": [
      "The stock had the best performance over the entire period：NVDA，with cumulative return：11158.84%\n",
      "The average daily return for 'AAPL' is: 0.11%\n",
      "The worst daily return was -44.65% for stock FANG on 2020-03-09 00:00:00.\n"
     ]
    }
   ]
  },
  {
   "cell_type": "markdown",
   "source": [
    "# Fama French Analysis\n",
    "\n",
    "The Fama-French five-factor model is an extension of the classic three-factor model used in finance to describe stock returns. It is designed to better capture the risk associated with stocks and explain differences in returns. This model includes the following factors:\n",
    "\n",
    "1. **Market Risk (MKT)**: The excess return of the market over the risk-free rate. It captures the overall market's premium.\n",
    "2. **Size (SMB, \"Small Minus Big\")**: The performance of small-cap stocks relative to large-cap stocks.\n",
    "3. **Value (HML, \"High Minus Low\")**: The performance of stocks with high book-to-market values relative to those with low book-to-market values.\n",
    "4. **Profitability (RMW, \"Robust Minus Weak\")**: The difference in returns between companies with robust (high) and weak (low) profitability.\n",
    "5. **Investment (CMA, \"Conservative Minus Aggressive\")**: The difference in returns between companies that invest conservatively and those that invest aggressively.\n",
    "\n",
    "## Additional Factor\n",
    "\n",
    "6. **Momentum (MOM)**: This factor represents the tendency of stocks that have performed well in the past to continue performing well, and the reverse for stocks that have performed poorly.\n",
    "\n",
    "### Mathematical Representation\n",
    "\n",
    "The return of a stock $R_i^t$ at time $t$ can be modeled as follows :\n",
    "\n",
    "$$\n",
    "R_i^t - R_f^t = \\alpha_i^t + \\beta_{i,MKT}^t(R_M^t - R_f^t) + \\beta_{i,SMB}^t \\cdot SMB^t + \\beta_{i,HML}^t \\cdot HML^t + \\beta_{i,RMW}^t \\cdot RMW^t + \\beta_{i,CMA}^t \\cdot CMA^t + \\beta_{i,MOM}^t \\cdot MOM^t + \\epsilon_i^t\n",
    "$$\n",
    "\n",
    "Where:\n",
    "- $ R_i^t $ is the return of stock $i$ at time $t$\n",
    "- $R_f^t $is the risk-free rate at time $t$\n",
    "- $ R_M^t $ is the market return at time $t$\n",
    "- $\\alpha_i^t $ is the abnormal return or alpha of stock $ i $ at time $t$\n",
    "- $\\beta^t $ coefficients represent the sensitivity of the stock returns to each factor at time $t$\n",
    "- $\\epsilon_i^t $ is the error term or idiosyncratic risk unique to stock $ i $ at time $t$\n",
    "\n",
    "This model is particularly useful for identifying which factors significantly impact stock returns and for constructing a diversified portfolio that is optimized for given risk preferences.\n",
    "\n",
    "\n"
   ],
   "metadata": {
    "id": "hcY-V82zXGqc"
   }
  },
  {
   "cell_type": "markdown",
   "source": [
    "---\n",
    "<font color=green>Q7: (1 Mark) </font>\n",
    "<br><font color='green'>\n",
    "Download the `fama_french_dataset` from the course's GitHub account.\n",
    "</font>\n",
    "\n",
    "---"
   ],
   "metadata": {
    "id": "qtFgmpsKQc8B"
   }
  },
  {
   "cell_type": "code",
   "source": [
    "## Insert your code here"
   ],
   "metadata": {
    "id": "iJVPHhTSxKuk"
   },
   "execution_count": null,
   "outputs": []
  },
  {
   "cell_type": "markdown",
   "source": [
    "---\n",
    "<font color=green>Q8: (5 Marks)</font>\n",
    "<br><font color='green'>\n",
    "\n",
    "Write a Python function called `get_sub_df_ticker(ticker, date, df_filtered, length_history)` that extracts a historical sub-dataframe for a given `ticker` from `df_filtered`. The function should use `length_history` to determine the number of trading days to include, ending at the specified `date`. Return the sub-dataframe for the specified `ticker`.\n",
    "</font>\n",
    "\n",
    "---\n"
   ],
   "metadata": {
    "id": "S5FJ362KW-wh"
   }
  },
  {
   "cell_type": "code",
   "source": [
    "## Insert your code here"
   ],
   "metadata": {
    "id": "2mIrS_fpxLsR"
   },
   "execution_count": null,
   "outputs": []
  },
  {
   "cell_type": "markdown",
   "source": [
    "---\n",
    "<font color=green>Q9: (4 Marks)</font>\n",
    "<br><font color='green'>\n",
    "Create a Python function named `df_ticker_with_fama_french(ticker, date, df_filtered, length_history, fama_french_data)` that uses `get_sub_df_ticker` to extract historical data for a specific `ticker`. Incorporate the Fama-French factors from `fama_french_data` into the extracted sub-dataframe. Adjust the ticker's returns by subtracting the risk-free rate ('RF') and add other relevant Fama-French factors ('Mkt-RF', 'SMB', 'HML', 'RMW', 'CMA', and 'Mom'). Return the resulting sub-dataframe.\n",
    "</font>\n",
    "\n",
    "---"
   ],
   "metadata": {
    "id": "T-p7nCNYXYNr"
   }
  },
  {
   "cell_type": "code",
   "source": [
    "## Insert your code here"
   ],
   "metadata": {
    "id": "pfsdj79HxMnp"
   },
   "execution_count": null,
   "outputs": []
  },
  {
   "cell_type": "markdown",
   "source": [
    "---\n",
    "<font color=green>Q10: (5 Marks) </font>\n",
    "<br><font color='green'>\n",
    "Write a Python function named `extract_beta_fama_french` to perform a rolling regression analysis for a given stock at a specific time point using the Fama-French model. The function should accept the following parameters:\n",
    "\n",
    "- `ticker`: A string indicating the stock symbol.\n",
    "- `date`: A string specifying the date for the analysis.\n",
    "- `length_history`: An integer representing the number of days of historical data to include.\n",
    "- `df_filtered`: A pandas DataFrame (assumed to be derived from question 5) containing filtered stock data.\n",
    "- `fama_french_data`: A pandas DataFrame (assumed to be from question 7) that includes Fama-French factors.\n",
    "\n",
    "Utilize the `statsmodels.api` library to conduct the regression.\n",
    "</font>\n",
    "\n",
    "---"
   ],
   "metadata": {
    "id": "ykVqmW4PQe5T"
   }
  },
  {
   "cell_type": "code",
   "source": [
    "## Insert your code here"
   ],
   "metadata": {
    "id": "VGSUB3UDxN2B"
   },
   "execution_count": null,
   "outputs": []
  },
  {
   "cell_type": "markdown",
   "source": [
    "---\n",
    "<font color=green>Q11: (2 Marks) </font>\n",
    "<br><font color='green'>\n",
    "Apply the `extract_beta_fama_french` function to the stock symbol 'AAPL' for the date '2024-03-28', using a historical data length of 252 days. Ensure that the `df_filtered` and `fama_french_data` DataFrames are correctly prepared and available in your environment before executing this function. The parameters for the function call are set as follows:\n",
    "\n",
    "- **Ticker**: 'AAPL'\n",
    "- **Date**: '2024-03-28'\n",
    "- **Length of History**: 252 days\n",
    "</font>\n",
    "\n",
    "---\n",
    "\n"
   ],
   "metadata": {
    "id": "BY8FqrBjRDTz"
   }
  },
  {
   "cell_type": "code",
   "source": [
    "## Insert your code here"
   ],
   "metadata": {
    "id": "fo6C5-qXxPZO"
   },
   "execution_count": null,
   "outputs": []
  },
  {
   "cell_type": "markdown",
   "source": [
    "---\n",
    "<font color=green>Q12: (2 Marks)</font>\n",
    "<br><font color='green'>\n",
    "Once the `extract_beta_fama_french` function has been applied to 'AAPL' with the specified parameters, the next step is to analyze the regression summary to identify which Fama-French factor explains the most variance in 'AAPL' returns during the specified period.\n",
    "\n",
    "Follow these steps to perform the analysis:\n",
    "\n",
    "1. **Review the Summary**: Examine the regression output, focusing on the coefficients and their statistical significance (p-values).\n",
    "2. **Identify Key Factor**: Determine which factor has the highest absolute coefficient value and is statistically significant (typically p < 0.05). This factor can be considered as having the strongest influence on 'AAPL' returns for the period.\n",
    "\n",
    "</font>\n",
    "\n",
    "---"
   ],
   "metadata": {
    "id": "-DyA4G1d0HjY"
   }
  },
  {
   "cell_type": "markdown",
   "source": [
    "**Write your answers here:**"
   ],
   "metadata": {
    "id": "thaIsaiFWWNO"
   }
  },
  {
   "cell_type": "markdown",
   "metadata": {
    "id": "Pj7qlAq-J8N2"
   },
   "source": [
    "# PCA Analysis"
   ]
  },
  {
   "cell_type": "markdown",
   "source": [
    "\n",
    "In literature, another method exists for extracting residuals for each stock, utilizing the PCA approach to identify hidden factors in the data. Let's describe this method.\n",
    "\n",
    "The return of a stock $R_i^t$ at time $t$ can be modeled as follows :\n",
    "\n",
    "$$\n",
    "R_i^t  = \\sum_{j=1}^m\\beta_{i,j}^t F_j^t  + \\epsilon_i^t\n",
    "$$\n",
    "\n",
    "Where:\n",
    "- $ R_i^t $ is the return of stock $i$ at time $t$\n",
    "- $m$ is the number of factors selected from PCA\n",
    "-  $ F_j^t $ is the $j$-th hidden factor constructed from PCA at time $t$\n",
    "- $\\beta_{i,j}^t $ are the coefficients representing the sensitivity of the stock returns to each hidden factor.\n",
    "- $\\epsilon_i^t $  is the residual term for stock $i$ at time $t$, representing the portion of the return not explained by the PCA factors.\n",
    "\n",
    "### Representation of Stock Return Data\n",
    "\n",
    "Consider the return data for $N$ stocks over $T$ periods, represented by the matrix $R$ of size $T \\times N$:\n",
    "\n",
    "$$\n",
    "R = \\left[\n",
    "\\begin{array}{cccc}\n",
    "R_1^T & R_2^T & \\cdots & R_N^T \\\\\n",
    "R_1^{T-1} & R_2^{T-1} & \\cdots & R_N^{T-1} \\\\\n",
    "\\vdots & \\vdots & \\ddots & \\vdots \\\\\n",
    "R_1^1 & R_2^1 & \\cdots & R_N^1 \\\\\n",
    "\\end{array}\n",
    "\\right]\n",
    "$$\n",
    "\n",
    "Each element $R_i^k$ of the matrix represents the return of stock $i$ at time $k$ and is defined as:\n",
    "\n",
    "$$\n",
    "R_i^k = \\frac{S_{i,k} - S_{i, k-1}}{S_{i, k-1}}, \\quad k=1,\\cdots, T, \\quad i=1,\\cdots,N\n",
    "$$\n",
    "\n",
    "where $S_{i,k}$ denotes the adjusted close price of stock $i$ at time $k$.\n",
    "\n",
    "### Standardization of Returns\n",
    "\n",
    "To adjust for varying volatilities across stocks, we standardize the returns as follows:\n",
    "\n",
    "$$\n",
    "Z_i^t = \\frac{R_i^t - \\mu_i}{\\sigma_i}\n",
    "$$\n",
    "\n",
    "where $\\mu_i$ and $\\sigma_i$ are the mean and standard deviation of returns for stock $i$ over the period $[t-T, t]$, respectively.\n",
    "\n",
    "### Empirical Correlation Matrix\n",
    "\n",
    "The empirical correlation matrix $C$ is computed from the standardized returns:\n",
    "\n",
    "$$\n",
    "C = \\frac{1}{T-1} Z^T Z\n",
    "$$\n",
    "\n",
    "where $Z^T$ is the transpose of matrix $Z$.\n",
    "\n",
    "### Singular Value Decomposition (SVD)\n",
    "\n",
    "We apply Singular Value Decomposition to the correlation matrix $C$:\n",
    "\n",
    "$$\n",
    "C = U \\Sigma V^T\n",
    "$$\n",
    "\n",
    "Here, $U$ and $V$ are orthogonal matrices representing the left and right singular vectors, respectively, and $\\Sigma$ is a diagonal matrix containing the singular values, which are the square roots of the eigenvalues.\n",
    "\n",
    "### Construction of Hidden Factors\n",
    "\n",
    "For each of the top $m$ components, we construct the selected hidden factors as follows:\n",
    "\n",
    "$$\n",
    "F_j^t = \\sum_{i=1}^N \\frac{\\lambda_{i,j}}{\\sigma_i} R_i^t\n",
    "$$\n",
    "\n",
    "where $\\lambda_{i,j}$ is the $i$-th component of the $j$-th eigenvector (ranked by eigenvalue magnitude).\n"
   ],
   "metadata": {
    "id": "Qty6V05YXxti"
   }
  },
  {
   "cell_type": "markdown",
   "source": [
    "---\n",
    "<font color=green>Q13 (3 Marks):\n",
    "\n",
    "For the specified period from March 29, 2023 ('2023-03-29'), to March 28, 2024 ('2024-03-28'), generate the matrix $Z$ by standardizing the stock returns using the DataFrame `df_filtered_new`\n",
    "</font>\n",
    "\n",
    "---\n"
   ],
   "metadata": {
    "id": "XIkNjUbFZ3Wy"
   }
  },
  {
   "cell_type": "code",
   "source": [
    "## Insert your code here"
   ],
   "metadata": {
    "id": "AqhmrY9xcbnk"
   },
   "execution_count": null,
   "outputs": []
  },
  {
   "cell_type": "markdown",
   "source": [
    "---\n",
    "<font color=green>Q14: (1 Mark) </font>\n",
    "<br><font color='green'>\n",
    "Download the `Z_matrix` matrix from the course's GitHub account.\n",
    "</font>\n",
    "\n",
    "---"
   ],
   "metadata": {
    "id": "Quv2tOhXch4-"
   }
  },
  {
   "cell_type": "code",
   "source": [
    "## Insert your code here"
   ],
   "metadata": {
    "id": "NmSz-J_oxYQa"
   },
   "execution_count": null,
   "outputs": []
  },
  {
   "cell_type": "markdown",
   "source": [
    "---\n",
    "<font color=green>Q15: (3 Marks) </font>\n",
    "<br><font color='green'>\n",
    "For the specified period from March 29, 2023 ('2023-03-29'), to March 28, 2024 ('2024-03-28'), compute the correlation matrix\n",
    "$C$ using the matrix `Z_matrix`.\n",
    "</font>\n",
    "\n",
    "---"
   ],
   "metadata": {
    "id": "2d-2MrrzatMc"
   }
  },
  {
   "cell_type": "code",
   "source": [
    "## Insert your code here"
   ],
   "metadata": {
    "id": "2rRt-HL1xZqA"
   },
   "execution_count": null,
   "outputs": []
  },
  {
   "cell_type": "markdown",
   "source": [
    "---\n",
    "<font color=green>Q16: (2 Marks) </font>\n",
    "<br><font color='green'>\n",
    "Refind the correlation matrix from the from March 29, 2023 ('2023-03-29'), to March 28, 2024 ('2024-03-28') using pandas correlation matrix method.\n",
    "</font>\n",
    "\n",
    "---"
   ],
   "metadata": {
    "id": "7FnUvUEkjAbG"
   }
  },
  {
   "cell_type": "code",
   "source": [
    "## Insert your code here"
   ],
   "metadata": {
    "id": "T_g-VjITxasb"
   },
   "execution_count": null,
   "outputs": []
  },
  {
   "cell_type": "markdown",
   "source": [
    "---\n",
    "<font color=green>Q17: (7 Marks) </font>\n",
    "<br><font color='green'>\n",
    "Conduct Singular Value Decomposition on the correlation matrix $C$. Follow these steps:\n",
    "\n",
    "\n",
    "1.   **Perform SVD**: Decompose the matrix $C$ into its singular values and vectors.\n",
    "2.   **Rank Eigenvalues**: Sort the resulting singular values (often squared to compare to eigenvalues) in descending order.\n",
    "3. **Select Components**: Extract the first 20 components based on the largest singular values.\n",
    "4. **Variance Explained**: Print the variance explained by the first 20 Components and dimensions of differents matrix that you created.\n",
    "\n",
    "</font>\n",
    "\n",
    "---"
   ],
   "metadata": {
    "id": "lvsiMvgfaxzW"
   }
  },
  {
   "cell_type": "code",
   "source": [
    "## Insert your code here"
   ],
   "metadata": {
    "id": "pohRSmSExbkq"
   },
   "execution_count": null,
   "outputs": []
  },
  {
   "cell_type": "markdown",
   "source": [
    "---\n",
    "<font color=green>Q18: (6 Marks) </font>\n",
    "<br><font color='green'>\n",
    "Extract the 20 hidden factors in a matrix F. Check that shape of F is $(252,20)$\n",
    "</font>\n",
    "\n",
    "</font>\n",
    "\n",
    "---"
   ],
   "metadata": {
    "id": "a3sZ7K-Tb6S_"
   }
  },
  {
   "cell_type": "code",
   "source": [
    "## Insert your code here"
   ],
   "metadata": {
    "id": "CzT32wMixcjq"
   },
   "execution_count": null,
   "outputs": []
  },
  {
   "cell_type": "markdown",
   "source": [
    "---\n",
    "<font color=green>Q19: (3 Marks) </font>\n",
    "<br><font color='green'>\n",
    "Perform the Regression Analysis of 'AAPL' for the date '2024-03-28', using a historical data length of 252 days using previous $F$ Matrix. Compare the R-squared from the ones obtained at Q11.\n",
    "</font>\n",
    "\n",
    "</font>\n",
    "\n",
    "---"
   ],
   "metadata": {
    "id": "nz-ncrUmCAVW"
   }
  },
  {
   "cell_type": "code",
   "source": [
    "## Insert your code here"
   ],
   "metadata": {
    "id": "vcPG6YWoxdgn"
   },
   "execution_count": null,
   "outputs": []
  },
  {
   "cell_type": "markdown",
   "source": [
    "# Ornstein Uhlenbeck\n",
    "\n",
    "The Ornstein-Uhlenbeck process is defined by the following stochastic differential equation (SDE):\n",
    "\n",
    "$$ dX_t = \\theta (\\mu - X_t) dt + \\sigma dW_t $$\n",
    "\n",
    "where:\n",
    "\n",
    "- **$ X_t $**: The value of the process at time $ t $.\n",
    "- **$ \\mu $**: The long-term mean (equilibrium level) to which the process reverts.\n",
    "- **$ \\theta $**: The speed of reversion or the rate at which the process returns to the mean.\n",
    "- **$ \\sigma $**: The volatility (standard deviation), representing the magnitude of random fluctuations.\n",
    "- **$ W_t $**: A Wiener process or Brownian motion that adds stochastic (random) noise.\n",
    "\n",
    "This equation describes a process where the variable $ X_t $ moves towards the mean $ \\mu $ at a rate determined by $ \\theta $, with random noise added by $ \\sigma dW_t $."
   ],
   "metadata": {
    "id": "IDU8xmpi_ueR"
   }
  },
  {
   "cell_type": "markdown",
   "source": [
    "---\n",
    "<font color=green>Q20: (3 Marks) </font>\n",
    "<br><font color='green'>\n",
    "In the context of mean reversion, which quantity should be modeled using an Ornstein-Uhlenbeck process?\n",
    "</font>\n",
    "\n",
    "---"
   ],
   "metadata": {
    "id": "1HMYOiWsP53c"
   }
  },
  {
   "cell_type": "markdown",
   "source": [
    "**Write your answers here:**"
   ],
   "metadata": {
    "id": "SiO01w7fO_bR"
   }
  },
  {
   "cell_type": "markdown",
   "source": [
    "---\n",
    "<font color=green>Q21: (5 Marks) </font>\n",
    "<br><font color='green'>\n",
    "Explain how the parameters $ \\theta $ and $ \\sigma $ can be determined using the following equations. Also, detail the underlying assumptions:\n",
    "$$ E[X] = \\mu $$\n",
    "$$ \\text{Var}[X] = \\frac{\\sigma^2}{2\\theta} $$\n",
    "</font>\n",
    "\n",
    "---"
   ],
   "metadata": {
    "id": "t31Q2iWgQgsO"
   }
  },
  {
   "cell_type": "markdown",
   "source": [
    "**Write your answers here:**"
   ],
   "metadata": {
    "id": "v_KjMbQplj4U"
   }
  },
  {
   "cell_type": "markdown",
   "source": [
    "---\n",
    "<font color=green>Q22: (2 Marks) </font>\n",
    "<br><font color='green'>\n",
    "Create a function named `extract_s_scores` which computes 's scores' for the last element in a list of floating-point numbers. This function calculates the scores using the following formula $ \\text{s scores} = \\frac{X_T - \\mu}{\\sigma} $ where `list_xi` represents a list containing a sequence of floating-point numbers $(X_0, \\cdots, X_T)$.\n",
    "\n",
    "</font>\n",
    "\n",
    "---"
   ],
   "metadata": {
    "id": "5JvTPsTTSMp4"
   }
  },
  {
   "cell_type": "code",
   "source": [
    "## Insert your code here"
   ],
   "metadata": {
    "id": "unNHgTj8xkv5"
   },
   "execution_count": null,
   "outputs": []
  },
  {
   "cell_type": "markdown",
   "source": [
    "# Autoencoder Analysis\n",
    "\n",
    "Autoencoders are neural networks used for unsupervised learning, particularly for dimensionality reduction and feature extraction. Training an autoencoder on the $Z_i$ matrix aims to identify hidden factors capturing the intrinsic structures in financial data.\n",
    "\n",
    "### Architecture\n",
    "- **Encoder**: Compresses input data into a smaller latent space representation.\n",
    "  - *Input Layer*: Matches the number of features in the $Z_i$ matrix.\n",
    "  - *Hidden Layers*: Compress data through progressively smaller layers.\n",
    "  - *Latent Space*: Encodes the data into hidden factors.\n",
    "- **Decoder**: Reconstructs input data from the latent space.\n",
    "  - *Hidden Layers*: Gradually expand to the original dimension.\n",
    "  - *Output Layer*: Matches the input layer to recreate the original matrix.\n",
    "\n",
    "### Training\n",
    "The autoencoder is trained by minimizing reconstruction loss, usually mean squared error (MSE), between the input $Z_i$ matrix and the decoder's output.\n",
    "\n",
    "### Hidden Factors Extraction\n",
    "After training, the encoder's latent space provides the most important underlying patterns in the stock returns."
   ],
   "metadata": {
    "id": "jAB_ANF2gCiY"
   }
  },
  {
   "cell_type": "markdown",
   "source": [
    "---\n",
    "<font color=green>Q23: (2 Marks) </font>\n",
    "<br><font color='green'>\n",
    "Modify the standardized returns matrix `Z_matrix` to reduce the influence of extreme outliers on model trainingby ensuring that all values in the matrix `Z_matrix` do not exceed 3 standard deviations from the mean. Specifically, cap these values at the interval $-3, 3]$. Store the adjusted values in a new matrix, `Z_hat`.\n",
    "</font>\n",
    "\n",
    "----"
   ],
   "metadata": {
    "id": "AJzNtknXgdqF"
   }
  },
  {
   "cell_type": "code",
   "source": [
    "## Insert your code here"
   ],
   "metadata": {
    "id": "Ln7vWV0TxmFk"
   },
   "execution_count": null,
   "outputs": []
  },
  {
   "cell_type": "markdown",
   "source": [
    "---\n",
    "<font color=green>Q24: (1 Marks) </font>\n",
    "<br><font color='green'>\n",
    "Fetch the `Z_hat` data from GitHub, and we'll proceed with it now.\n",
    "</font>\n",
    "\n"
   ],
   "metadata": {
    "id": "BNJDLYZ9g_V4"
   }
  },
  {
   "cell_type": "code",
   "source": [
    "## Insert your code here"
   ],
   "metadata": {
    "id": "BraH_nivxngd"
   },
   "execution_count": null,
   "outputs": []
  },
  {
   "cell_type": "markdown",
   "source": [
    "---\n",
    "<font color=green>Q25: (3 Marks) </font>\n",
    "<br><font color='green'>\n",
    "Segment the standardized and capped returns matrix $\\hat{Z}$ into two subsets for model training and testing. Precisly Allocate 70% of the data in $\\hat{Z}$ to the training set $ \\hat{Z}_{train} $ and Allocate the remaining 30% to the testing set $\\hat{Z}_{test}$. Treat each stock within $\\hat{Z}$ as an individual sample, by flattening temporal dependencies.\n",
    "</font>\n",
    "\n"
   ],
   "metadata": {
    "id": "c3MRBtXIiWcN"
   }
  },
  {
   "cell_type": "code",
   "source": [
    "## Insert your code here"
   ],
   "metadata": {
    "id": "Ggdgu_3wxobS"
   },
   "execution_count": null,
   "outputs": []
  },
  {
   "cell_type": "markdown",
   "source": [
    "---\n",
    "<font color=green>Q26: (10 Marks) </font>\n",
    "<br><font color='green'>\n",
    "Please create an autoencoder following the instructions provided in  **[End-to-End Policy Learning of a Statistical Arbitrage Autoencoder Architecture](https://arxiv.org/pdf/2402.08233.pdf)**, Use the model 'Variant 2' in Table 1.\n",
    "</font>\n",
    "\n",
    "---"
   ],
   "metadata": {
    "id": "yqWeD_efihbH"
   }
  },
  {
   "cell_type": "code",
   "source": [
    "## Insert your code here"
   ],
   "metadata": {
    "id": "hyf_dfsoxp_X"
   },
   "execution_count": null,
   "outputs": []
  },
  {
   "cell_type": "markdown",
   "source": [
    "---\n",
    "<font color=green>Q27 (1 Mark) :\n",
    "\n",
    "Display all the parameters of the deep neural network.\n",
    "</font>\n",
    "\n",
    "---"
   ],
   "metadata": {
    "id": "zq6o0QBPateR"
   }
  },
  {
   "cell_type": "code",
   "source": [
    "## Insert your code here"
   ],
   "metadata": {
    "id": "yLyuzLkGxrAd"
   },
   "execution_count": null,
   "outputs": []
  },
  {
   "cell_type": "markdown",
   "source": [
    "---\n",
    "<font color=green>Q28: (3 Marks) </font>\n",
    "<br><font color='green'>\n",
    "Train your model using the Adam optimizer for 20 epochs with a batch size equal to 8 and validation split to 20%. Specify the loss function you've chosen.\n",
    "</font>\n"
   ],
   "metadata": {
    "id": "2lNBOw3ait03"
   }
  },
  {
   "cell_type": "code",
   "source": [
    "## Insert your code here"
   ],
   "metadata": {
    "id": "IBUtUlxIxsrx"
   },
   "execution_count": null,
   "outputs": []
  },
  {
   "cell_type": "markdown",
   "source": [
    "---\n",
    "<font color=green>Q29: (3 Marks) </font>\n",
    "<br><font color='green'>\n",
    "Predict using the testing set and extract the residuals based on the methodology described in **[End-to-End Policy Learning of a Statistical Arbitrage Autoencoder Architecture](https://arxiv.org/pdf/2402.08233.pdf)**.\n",
    "for 'NVDA' stock.\n",
    "</font>\n",
    "\n",
    "---"
   ],
   "metadata": {
    "id": "8xI8O24djAYO"
   }
  },
  {
   "cell_type": "code",
   "source": [
    "## Insert your code here"
   ],
   "metadata": {
    "id": "S-EDTK7wxtxB"
   },
   "execution_count": null,
   "outputs": []
  },
  {
   "cell_type": "markdown",
   "source": [
    "<font color=green>Q30: (7 Marks) </font>\n",
    "<br><font color='green'>\n",
    "By reading carrefully the paper **[End-to-End Policy Learning of a Statistical Arbitrage Autoencoder Architecture](https://arxiv.org/pdf/2402.08233.pdf)**, answers the following question:\n",
    "1. **Summarize the Key Actions**: Highlight the main experiments and methodologies employed by the authors in Section 5.\n",
    "2. **Reproduction Steps**: Detail the necessary steps required to replicate the authors' approach based on the descriptions provided in the paper.\n",
    "3. **Proposed Improvement**: Suggest one potential enhancement to the methodology that could potentially increase the effectiveness or efficiency of the model.\n",
    "\n"
   ],
   "metadata": {
    "id": "mYyVOZu90CIK"
   }
  },
  {
   "cell_type": "markdown",
   "source": [
    "**Write your answers here:**\n",
    "\n",
    "\n",
    "\n",
    "\n",
    "\n",
    "\n",
    "\n",
    "\n"
   ],
   "metadata": {
    "id": "na95zQB40hRG"
   }
  }
 ],
 "metadata": {
  "colab": {
   "provenance": [],
   "include_colab_link": true
  },
  "kernelspec": {
   "name": "python3",
   "language": "python",
   "display_name": "Python 3 (ipykernel)"
  },
  "language_info": {
   "name": "python"
  }
 },
 "nbformat": 4,
 "nbformat_minor": 0
}
